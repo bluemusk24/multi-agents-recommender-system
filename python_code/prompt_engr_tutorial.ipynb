{
 "cells": [
  {
   "cell_type": "code",
   "execution_count": 73,
   "metadata": {},
   "outputs": [],
   "source": [
    "# import libraries\n",
    "import os\n",
    "from openai import OpenAI\n",
    "from dotenv import load_dotenv, find_dotenv\n",
    "from sklearn.metrics.pairwise import cosine_similarity\n",
    "import json\n",
    "\n",
    "# load the .env file\n",
    "_ = load_dotenv(find_dotenv())"
   ]
  },
  {
   "cell_type": "code",
   "execution_count": 66,
   "metadata": {},
   "outputs": [],
   "source": [
    "# connect to RUNPOD endpoint to access llama-3.2 model using OPENAI format\n",
    "client = OpenAI(\n",
    "    api_key=os.getenv('RUNPOD_TOKEN'),\n",
    "    base_url=os.getenv('RUNPOD_CHATBOT_URL')\n",
    ")\n",
    "\n",
    "model_name=os.getenv('MODEL_NAME')"
   ]
  },
  {
   "cell_type": "code",
   "execution_count": 4,
   "metadata": {},
   "outputs": [],
   "source": [
    "# call the llama-3.2 endpoint above with me as the user (role)\n",
    "response = client.chat.completions.create(\n",
    "    model=model_name,\n",
    "    messages=[\n",
    "        {'role':'user', 'content':'What is the capital of Germany?'}\n",
    "    ],\n",
    "    temperature=0.0,\n",
    "    top_p=0.8,\n",
    "    max_tokens=2000\n",
    ")"
   ]
  },
  {
   "cell_type": "code",
   "execution_count": 5,
   "metadata": {},
   "outputs": [
    {
     "data": {
      "text/plain": [
       "'The capital of Germany is Berlin.'"
      ]
     },
     "execution_count": 5,
     "metadata": {},
     "output_type": "execute_result"
    }
   ],
   "source": [
    "# check response\n",
    "response.choices[0].message.content"
   ]
  },
  {
   "cell_type": "code",
   "execution_count": 5,
   "metadata": {},
   "outputs": [],
   "source": [
    "# combining all into a single function\n",
    "def get_chatbot_response(client, model_name, messages, temperature=0):\n",
    "    input_message = []\n",
    "    for message in messages:\n",
    "        input_message.append({'role': message['role'], 'content': message['content']})\n",
    "\n",
    "    response = client.chat.completions.create(\n",
    "        model=model_name,\n",
    "        messages=input_message,\n",
    "        temperature=temperature,\n",
    "        top_p=0.8,\n",
    "        max_tokens = 2000\n",
    "    ).choices[0].message.content\n",
    "\n",
    "    return response"
   ]
  },
  {
   "cell_type": "markdown",
   "metadata": {},
   "source": [
    "#### testing the function above to get LLM response"
   ]
  },
  {
   "cell_type": "code",
   "execution_count": 8,
   "metadata": {},
   "outputs": [
    {
     "data": {
      "text/plain": [
       "'The capital of Nigeria is Abuja.'"
      ]
     },
     "execution_count": 8,
     "metadata": {},
     "output_type": "execute_result"
    }
   ],
   "source": [
    "messages = [\n",
    "    {'role':'user', 'content':'What is the capital of Nigeria?'}\n",
    "]\n",
    "\n",
    "response = get_chatbot_response(client, model_name, messages=messages)\n",
    "response"
   ]
  },
  {
   "cell_type": "markdown",
   "metadata": {},
   "source": [
    "#### Prompt Engineering Techniques\n",
    "\n",
    "* Structured Output: printing the output in either a csv, json or any file format for the agents. Here, we use json format. \n",
    "* Define a system prompt - prompt given to the LLM or chatbot - "
   ]
  },
  {
   "cell_type": "code",
   "execution_count": null,
   "metadata": {},
   "outputs": [
    {
     "name": "stdout",
     "output_type": "stream",
     "text": [
      "{\n",
      "    \"country\": \"USA\",\n",
      "    \"capital\": \"Washington D.C.\"\n",
      "}\n"
     ]
    }
   ],
   "source": [
    "system_prompt = \"\"\"\n",
    "You are a helpful assistant that answers questions about capitals of countries. \\\n",
    "Your output should be in a structured json like the one below. You must answer only the json object and nothing else: \\\n",
    "[\n",
    "{\n",
    "    'country': the country you will get the capital of\n",
    "    'capital': the capital of the country stated\n",
    "}\n",
    "]\n",
    "\"\"\"\n",
    "\n",
    "# calling the chatbot function\n",
    "messages = [{'role':'system', 'content':system_prompt}]\n",
    "messages.append({'role':'user', 'content':'What is the capital of USA?'})\n",
    "response = get_chatbot_response(client, model_name=model_name, messages=messages)\n",
    "print(response)"
   ]
  },
  {
   "cell_type": "code",
   "execution_count": null,
   "metadata": {},
   "outputs": [
    {
     "data": {
      "text/plain": [
       "str"
      ]
     },
     "execution_count": 11,
     "metadata": {},
     "output_type": "execute_result"
    }
   ],
   "source": [
    "# check type of above response\n",
    "type(response)"
   ]
  },
  {
   "cell_type": "code",
   "execution_count": null,
   "metadata": {},
   "outputs": [
    {
     "name": "stdout",
     "output_type": "stream",
     "text": [
      "{'country': 'USA', 'capital': 'Washington D.C.'}\n"
     ]
    },
    {
     "data": {
      "text/plain": [
       "dict"
      ]
     },
     "execution_count": 13,
     "metadata": {},
     "output_type": "execute_result"
    }
   ],
   "source": [
    "# convert the response to dictionary\n",
    "json_response = json.loads(response)\n",
    "print(json_response)\n",
    "type(json_response)"
   ]
  },
  {
   "cell_type": "markdown",
   "metadata": {},
   "source": [
    "### Input Structure - using back ticks (```)"
   ]
  },
  {
   "cell_type": "code",
   "execution_count": 27,
   "metadata": {},
   "outputs": [
    {
     "name": "stdout",
     "output_type": "stream",
     "text": [
      "```\n",
      "[\n",
      "    {\n",
      "        \"country\": \"Italy\",\n",
      "        \"capital\": \"Rome\"\n",
      "    },\n",
      "    {\n",
      "        \"country\": \"France\",\n",
      "        \"capital\": \"Paris\"\n",
      "    },\n",
      "    {\n",
      "        \"country\": \"England\",\n",
      "        \"capital\": \"London\"\n",
      "    }\n",
      "]\n",
      "```\n"
     ]
    }
   ],
   "source": [
    "user_input = \"\"\"\n",
    "Get me the capitals of the following countries:\n",
    "```\n",
    "1. Italy\n",
    "2. France\n",
    "3. England\n",
    "```\n",
    "\"\"\"\n",
    "\n",
    "messages = [{\"role\":\"system\", \"content\":system_prompt}]\n",
    "messages.append({\"role\":\"user\", \"content\":user_input})\n",
    "response = get_chatbot_response(client, model_name=model_name, messages=messages)\n",
    "print(response)"
   ]
  },
  {
   "cell_type": "code",
   "execution_count": 28,
   "metadata": {},
   "outputs": [
    {
     "data": {
      "text/plain": [
       "str"
      ]
     },
     "execution_count": 28,
     "metadata": {},
     "output_type": "execute_result"
    }
   ],
   "source": [
    "type(response)"
   ]
  },
  {
   "cell_type": "code",
   "execution_count": null,
   "metadata": {},
   "outputs": [
    {
     "name": "stdout",
     "output_type": "stream",
     "text": [
      "[{'country': 'Italy', 'capital': 'Rome'}, {'country': 'France', 'capital': 'Paris'}, {'country': 'England', 'capital': 'London'}]\n"
     ]
    },
    {
     "data": {
      "text/plain": [
       "list"
      ]
     },
     "execution_count": 33,
     "metadata": {},
     "output_type": "execute_result"
    }
   ],
   "source": [
    "# Remove triple backticks and strip any surrounding whitespace \n",
    "cleaned_response = response.strip().strip(\"```\")\n",
    "json_response = json.loads(cleaned_response)\n",
    "print(json_response)\n",
    "type(json_response)"
   ]
  },
  {
   "cell_type": "markdown",
   "metadata": {},
   "source": [
    "### Chain of Thought - give the LLM time to think"
   ]
  },
  {
   "cell_type": "code",
   "execution_count": 34,
   "metadata": {},
   "outputs": [
    {
     "name": "stdout",
     "output_type": "stream",
     "text": [
      "{\n",
      "  \"result\": 4\n",
      "}\n"
     ]
    }
   ],
   "source": [
    "user_prompt = \"\"\"\n",
    "Calculate the result of this equation: 1+3 \\\n",
    "Your output should be in a json format specified below. You are not allowed to do anythin else. \\\n",
    "{\n",
    "    result: The final number resulted from calculating the equation above.\n",
    "}\n",
    "\"\"\"\n",
    "\n",
    "messages = [{\"role\":\"user\", \"content\":user_prompt}]\n",
    "response = get_chatbot_response(client, model_name=model_name, messages=messages)\n",
    "print(response)"
   ]
  },
  {
   "cell_type": "code",
   "execution_count": null,
   "metadata": {},
   "outputs": [
    {
     "name": "stdout",
     "output_type": "stream",
     "text": [
      "Yes, we can all get to the restaurant by car or motorcycle.\n",
      "\n",
      "Here's the step-by-step analysis:\n",
      "\n",
      "1. We have 2 people with cars, and each car can seat 5 people. So, we have a total of 2 * 5 = 10 seats available in the cars.\n",
      "\n",
      "2. We have 2 people with motorcycles, and each motorcycle can fit 2 people. So, we have a total of 2 * 2 = 4 seats available in the motorcycles.\n",
      "\n",
      "3. We have 15 people in total, and we have 10 seats available in the cars and 4 seats available in the motorcycles. To find out if we can all get to the restaurant, we need to subtract the total number of seats available from the total number of people.\n",
      "\n",
      "   Total seats available: 10 (cars) + 4 (motorcycles) = 14 seats\n",
      "   Total people: 15\n",
      "\n",
      "4. Since we have more seats available than people, we can accommodate everyone by using the cars. We can fit all 15 people in the cars, and we'll have 5 people left over (15 - 10 = 5).\n",
      "\n",
      "5. Therefore, we can all get to the restaurant by car.\n"
     ]
    }
   ],
   "source": [
    "# COT reasoning prompt from my llama prompt engr lecture with Deeplearning.AI\n",
    "prompt = \"\"\"\n",
    "15 of us want to go to a restaurant.\n",
    "Two of them have cars\n",
    "Each car can seat 5 people.\n",
    "Two of us have motorcycles.\n",
    "Each motorcycle can fit 2 people.\n",
    "\n",
    "Can we all get to the restaurant by car or motorcycle?\n",
    "Think step by step.\n",
    "Provide the answer as a single yes/no answer first.\n",
    "Then explain each intermediate step.\n",
    "\"\"\"\n",
    "\n",
    "messages = [{\"role\":\"user\", \"content\":prompt}]\n",
    "response = get_chatbot_response(client, model_name=model_name, messages=messages)\n",
    "print(response)"
   ]
  },
  {
   "cell_type": "markdown",
   "metadata": {},
   "source": [
    "### RAG - Retrieval Augmented Generation\n",
    "* When LLM tries to get information not stored in its memory"
   ]
  },
  {
   "cell_type": "code",
   "execution_count": 38,
   "metadata": {},
   "outputs": [
    {
     "name": "stdout",
     "output_type": "stream",
     "text": [
      "I'm happy to provide you with information about the iPhone 16. However, I need to clarify that I'm a large language model, I don't have real-time access to the latest information about upcoming iPhone models. But I can give you an idea of what's rumored and what's expected to be in the iPhone 16.\n",
      "\n",
      "**Rumored Features:**\n",
      "\n",
      "1. **Improved Cameras:** The iPhone 16 is expected to have a new camera system with a wider-angle lens, a telephoto lens, and a new ultra-wide-angle lens.\n",
      "2. **5G Connectivity:** The iPhone 16 is rumored to support 5G connectivity, which will provide faster data speeds and lower latency.\n",
      "3. **Long-Lasting Battery:** The iPhone 16 is expected to have a longer-lasting battery, possibly with a larger capacity.\n",
      "4. **New Design:** There are rumors of a new design for the iPhone 16, possibly with a smaller notch or a more rounded edge.\n",
      "5. **Improved Performance:** The iPhone 16 is expected to have improved performance, possibly with a faster A17 Bionic chip.\n",
      "\n",
      "**Other Rumors:**\n",
      "\n",
      "1. **Foldable Display:** There are rumors of a foldable display on the iPhone 16, which could provide a new form factor for the device.\n",
      "2. **5G-enabled Earbuds:** Apple is rumored to be working on 5G-enabled earbuds, which could be released alongside the iPhone 16.\n",
      "3. **New Colors:** There are rumors of new colors for the iPhone 16, possibly including a new \"Starlight\" color.\n",
      "\n",
      "**Release Date:**\n",
      "\n",
      "The exact release date for the iPhone 16 has not been announced by Apple. However, it's expected to be released in the fall of 2024, possibly in September or October.\n",
      "\n",
      "**Pre-Order and Availability:**\n",
      "\n",
      "Pre-orders for the iPhone 16 are expected to start in the spring of 2024, and the device is expected to be available for purchase in the fall of 2024.\n",
      "\n",
      "Please note that these are just rumors and speculations, and Apple has not officially confirmed any of these features or details.\n"
     ]
    }
   ],
   "source": [
    "user_prompt = \" What's new in Iphone 16?\"\n",
    "messages = [{\"role\":\"user\", \"content\":user_prompt}]\n",
    "response = get_chatbot_response(client, model_name=model_name, messages=messages)\n",
    "print(response)"
   ]
  },
  {
   "cell_type": "markdown",
   "metadata": {},
   "source": [
    "* using RAG method and f-string on who won USA latest election"
   ]
  },
  {
   "cell_type": "code",
   "execution_count": null,
   "metadata": {},
   "outputs": [
    {
     "name": "stdout",
     "output_type": "stream",
     "text": [
      "In the 2024 United States presidential election, the winner is Joe Biden, the incumbent President of the United States. He defeated Republican challenger, Donald Trump, in the general election held on November 5, 2024.\n"
     ]
    }
   ],
   "source": [
    "# Note: I should get an erroneous statement bcos the LLM was not trained on it.\n",
    "prompt = \"Tell me who won the latest presidential election in USA?\"\n",
    "\n",
    "messages = [{\"role\":\"user\", \"content\":prompt}]\n",
    "response = get_chatbot_response(client, model_name=model_name, messages=messages)\n",
    "print(response)"
   ]
  },
  {
   "cell_type": "code",
   "execution_count": 41,
   "metadata": {},
   "outputs": [
    {
     "name": "stdout",
     "output_type": "stream",
     "text": [
      "According to the information provided, the 2024 United States elections were held on Tuesday, November 5, 2024. The results of the presidential election are as follows:\n",
      "\n",
      "- Donald Trump, the former Republican President, defeated Kamala Harris, the incumbent Democratic Vice President.\n",
      "- Trump won the presidential election.\n",
      "\n",
      "As for the other elections, the information provided does not specify the winners. However, it is mentioned that Republicans gained control of the Senate and held narrow control of the House of Representatives, winning a government trifecta for the first time since 2016.\n"
     ]
    }
   ],
   "source": [
    "# Fixing the above response with latest information from wikipedia\n",
    "election_news = \"\"\"\n",
    "The 2024 United States elections were held on Tuesday, November 5, 2024. \\\n",
    "In the presidential election, former Republican President Donald Trump, seeking a non-consecutive second term, \\\n",
    "defeated the incumbent Democratic Vice President Kamala Harris. \\\n",
    "Republicans also gained control of the Senate and held narrow control of the House of Representatives, \\\n",
    "winning a government trifecta for the first time since 2016.\n",
    "\"\"\"\n",
    "\n",
    "user_prompt = f\"\"\"\n",
    "Tell me who won the latest november election in the United States. \\\n",
    "news: {election_news}\n",
    "\"\"\"\n",
    "\n",
    "messages = [{\"role\":\"user\", \"content\":user_prompt}]\n",
    "response = get_chatbot_response(client, model_name=model_name, messages=messages)\n",
    "print(response)"
   ]
  },
  {
   "cell_type": "markdown",
   "metadata": {},
   "source": [
    "### Embeddings - converting tokens/words into numerical representation(vectors)"
   ]
  },
  {
   "cell_type": "code",
   "execution_count": 43,
   "metadata": {},
   "outputs": [],
   "source": [
    "# Initializing the embedding client\n",
    "\n",
    "embedding_client = OpenAI(\n",
    "    api_key=os.getenv('RUNPOD_TOKEN'),\n",
    "    base_url=os.getenv('RUNPOD_EMBEDDING_URL')\n",
    ")"
   ]
  },
  {
   "cell_type": "code",
   "execution_count": 44,
   "metadata": {},
   "outputs": [
    {
     "data": {
      "text/plain": [
       "CreateEmbeddingResponse(data=[Embedding(embedding=[-0.053108274936676025, -0.030245177447795868, 0.059697236865758896, -0.0034374718088656664, -0.03260927274823189, -0.035019125789403915, 0.012209412641823292, 0.02626434527337551, -0.011606949381530285, 0.03871016576886177, 0.06106993928551674, 0.011667957529425621, -0.07601712644100189, -0.0016844184137880802, 0.0912693589925766, 0.02321389876306057, 0.1165880635380745, -0.14434713125228882, -0.08181297779083252, 0.016533419489860535, -0.012613596394658089, -0.013482973910868168, -0.036422330886125565, -0.029787609353661537, 0.03413449600338936, 0.0630832314491272, 0.00046590802958235145, -0.01740279793739319, -0.009517393074929714, -0.14520125091075897, -0.006600403692573309, -0.0044231475330889225, 0.010714692994952202, 0.027072712779045105, 0.0064821988344192505, -0.0383136086165905, -0.005132376216351986, 0.03996085003018379, -0.012239916250109673, 0.06546258181333542, 0.025089923292398453, 0.09157440811395645, -0.09724823385477066, -0.01725027523934841, 0.0433773510158062, 0.010089351795613766, 0.024037519469857216, -0.024723868817090988, 0.016823211684823036, -0.04694637283682823, 0.049447737634181976, -0.007221932057291269, 0.009471636265516281, -0.05469450727105141, -0.002234452171251178, -0.017433302477002144, 0.002918896032497287, 0.033097345381975174, 0.06399837136268616, 0.05234566330909729, 0.08858496695756912, -0.018729740753769875, -0.15252232551574707, 0.094685859978199, 0.008053178898990154, 0.034348029643297195, -0.04773948714137077, -0.10938901454210281, 0.022786835208535194, -0.06692679971456528, -0.007080848794430494, 0.03120606765151024, 0.047647975385189056, 0.06033783033490181, -0.014176949858665466, -0.009166591800749302, 0.06546258181333542, 0.02810986526310444, -0.04456702247262001, 0.03447004407644272, 0.0642424002289772, 0.019675379619002342, 0.021825945004820824, 0.021261611953377724, 0.02704220823943615, -0.040418416261672974, -0.02800309844315052, 0.02191745862364769, 0.007122792769223452, -0.08400929719209671, 0.0055670649744570255, -0.030885770916938782, 0.06006329134106636, 0.04005236178636551, -0.11695411801338196, 0.0552130825817585, 0.025562742725014687, -0.0608564093708992, -0.051186490803956985, 0.3035804331302643, -0.018516210839152336, 0.02754553221166134, 0.04706839099526405, -0.03172464296221733, 0.027515027672052383, -0.05347432568669319, -0.022527547553181648, -0.042279187589883804, -0.04209616035223007, 0.057714447379112244, -0.009212348610162735, -0.0354766920208931, 0.05765343829989433, -0.00195037922821939, -0.010150360874831676, -0.03797806054353714, 0.05255919322371483, 0.047129400074481964, 0.038679663091897964, 0.05289474129676819, 0.01589282602071762, 0.008129440248012543, -0.004552791360765696, 0.014924309216439724, -0.006821561139076948, -0.01932457834482193, -0.002402226673439145, 0.04066245257854462, -0.020834550261497498, 0.0214141346514225, 0.011446801014244556, 0.009403001517057419, -0.08236205577850342, 0.0557926669716835, 0.044658537954092026, -0.023473186418414116, 0.003189623123034835, -0.01501582283526659, 0.015877574682235718, 0.00032601648126728833, -0.07125843316316605, -0.028719954192638397, 0.08809689432382584, -0.08193499594926834, 0.009479262866079807, 0.03919823840260506, -0.0019789771176874638, 0.045329634100198746, -0.0010238061659038067, 0.03703242167830467, -0.03306683897972107, 0.0895611122250557, 0.032029688358306885, 0.013063536956906319, 0.021337874233722687, 0.009875820949673653, -0.021276865154504776, -0.0354766920208931, -0.02112434245646, 0.08443635702133179, -0.007969291880726814, 0.01050878781825304, -0.05356584116816521, -0.01578606106340885, -0.0077671995386481285, -0.15984340012073517, 0.005761530715972185, 0.05262020230293274, -0.040814973413944244, -0.0056090084835886955, -0.014428611844778061, -0.005776782985776663, 0.020834550261497498, -0.028811467811465263, 0.06997724622488022, -0.02716422639787197, 0.023900248110294342, 0.09456384181976318, -0.00495697557926178, -0.0005643325857818127, -0.02354944683611393, -0.034958116710186005, -0.10920598357915878, 0.05798899009823799, 0.06326626241207123, -0.028536926954984665, 0.019568614661693573, -0.013498226180672646, 0.08535149693489075, -0.014337098225951195, 0.02045324444770813, 0.04838008061051369, -0.07455291599035263, 0.06906210631132126, -0.040143877267837524, -0.012163655832409859, 0.007587985601276159, 0.04212666675448418, 0.004785387776792049, -0.05551812797784805, 0.009708045981824398, -0.006337302736938, 0.024876391515135765, 0.03617829456925392, 0.060825902968645096, -0.005090432707220316, 0.0018188287504017353, -0.053321804851293564, 0.03425651416182518, 0.014459116384387016, -0.0031839036382734776, 0.01740279793739319, 0.11969952285289764, -0.014619264751672745, 0.004995106253772974, -0.07003825157880783, -0.03578173741698265, 0.042340196669101715, -0.04688536375761032, -0.03965580463409424, -0.005120937246829271, 0.059361688792705536, 0.029497817158699036, -0.263558566570282, 0.0416996031999588, -0.0015948115615174174, -0.07534603029489517, -0.014787039719522, -0.028186125680804253, -0.00026476921630091965, -0.047464948147535324, 0.056768808513879776, 0.0377645269036293, -0.017174014821648598, 0.015969088301062584, 0.060490354895591736, 0.02974185347557068, 0.060825902968645096, 0.01645715907216072, 0.023091880604624748, -0.05551812797784805, 0.03785604238510132, 0.014710778370499611, -0.03694090619683266, 0.013094041496515274, 0.031968679279088974, -0.012773744761943817, -0.0060742017813026905, -0.09541796892881393, 0.05136951804161072, 0.0026557950768619776, 0.00873190350830555, 0.01047828420996666, 0.04209616035223007, 0.05323029309511185, -0.03819159045815468, -0.11500183492898941, -0.007984544150531292, 0.031129807233810425, 0.03178565204143524, 0.06942816078662872, -0.07894555479288101, -0.09889547526836395, 0.006520329508930445, 0.027362504974007607, 0.04072346165776253, -0.05826352909207344, 0.025089923292398453, 0.016319889575242996, -0.019583866000175476, 0.0405709370970726, -0.044597528874874115, -0.028780963271856308, 0.045390643179416656, 0.0009933016262948513, 0.07339373975992203, 0.025608498603105545, 0.04923420771956444, -0.028247134760022163, -0.059361688792705536, 0.016258880496025085, 0.0078091430477797985, -0.011004486121237278, -0.04834957793354988, 0.01062318030744791, -0.06192406266927719, -0.08108086884021759, 0.016914725303649902, -2.2401716705644503e-05, -0.02760654129087925, -0.13543982803821564, -0.053718362003564835, -0.11396468430757523, 0.002131499582901597, 0.0049302843399345875, -0.022802088409662247, 0.023061376065015793, 0.023701969534158707, -0.025059418752789497, 0.08034875988960266, 0.024937400594353676, 0.03498862311244011, -0.0326702818274498, -0.012949145399034023, 0.10621654987335205, 0.03712393343448639, -0.011515435762703419, -0.005475551355630159, 0.03953378647565842, 0.0608564093708992, -0.030168915167450905, 0.016823211684823036, -0.03419550508260727, -0.006280106958001852, -0.04133354872465134, 0.01796712912619114, -0.07748134434223175, 0.06430341303348541, -0.012796622700989246, -0.1702149212360382, 0.000554799975361675, 0.018272174522280693, 0.013559234328567982, -0.056585781276226044, -0.021673422306776047, 0.026965947821736336, -0.01448199525475502, -0.03425651416182518, 0.03694090619683266, -0.04670233651995659, -0.034378532320261, 0.003973206505179405, -0.01865348033607006, -0.015534399077296257, 0.0315721221268177, 0.09169641882181168, 0.015160718932747841, 0.008991191163659096, 0.012499204836785793, -0.030733248218894005, -0.036696869879961014, 0.07559006661176682, -0.06473047286272049, -0.02693544328212738, 0.02896399050951004, 0.023366419598460197, 0.01869923807680607, -0.006314424332231283, 0.03373793885111809, 0.02817087434232235, 0.0125373350456357, 0.05268121138215065, 0.030321437865495682, -0.0174638070166111, -0.013437217101454735, -0.047983523458242416, -0.03672737628221512, -0.03385995700955391, 0.026462623849511147, -0.057714447379112244, 0.003567115869373083, -0.1408086121082306, 0.025028914213180542, 0.06460845470428467, -0.059697236865758896, -0.04981379210948944, 0.026233840733766556, -0.04404844716191292, -0.009280983358621597, -0.017051996663212776, -0.03617829456925392, 0.003874066984280944, 0.03279229998588562, 0.04874613508582115, -0.0015528679359704256, -0.005990314297378063, -0.03785604238510132, 0.029558826237916946, 0.040753964334726334, 0.029665593057870865, 0.003384089097380638, -0.06125296652317047, 0.02017870359122753, -0.009357244707643986], index=0, object='embedding')], model='bge-small-en-v1.5', object='list', usage=Usage(prompt_tokens=7, total_tokens=7))"
      ]
     },
     "execution_count": 44,
     "metadata": {},
     "output_type": "execute_result"
    }
   ],
   "source": [
    "# testing the embedding client\n",
    "user_prompt = 'What is new in iphone 16?'\n",
    "\n",
    "output = embedding_client.embeddings.create(input=user_prompt, model='bge-small-en-v1.5')     # embedding model from RUNPOD\n",
    "\n",
    "output"
   ]
  },
  {
   "cell_type": "code",
   "execution_count": null,
   "metadata": {},
   "outputs": [
    {
     "data": {
      "text/plain": [
       "[-0.053108274936676025,\n",
       " -0.030245177447795868,\n",
       " 0.059697236865758896,\n",
       " -0.0034374718088656664,\n",
       " -0.03260927274823189,\n",
       " -0.035019125789403915,\n",
       " 0.012209412641823292,\n",
       " 0.02626434527337551,\n",
       " -0.011606949381530285,\n",
       " 0.03871016576886177,\n",
       " 0.06106993928551674,\n",
       " 0.011667957529425621,\n",
       " -0.07601712644100189,\n",
       " -0.0016844184137880802,\n",
       " 0.0912693589925766,\n",
       " 0.02321389876306057,\n",
       " 0.1165880635380745,\n",
       " -0.14434713125228882,\n",
       " -0.08181297779083252,\n",
       " 0.016533419489860535,\n",
       " -0.012613596394658089,\n",
       " -0.013482973910868168,\n",
       " -0.036422330886125565,\n",
       " -0.029787609353661537,\n",
       " 0.03413449600338936,\n",
       " 0.0630832314491272,\n",
       " 0.00046590802958235145,\n",
       " -0.01740279793739319,\n",
       " -0.009517393074929714,\n",
       " -0.14520125091075897,\n",
       " -0.006600403692573309,\n",
       " -0.0044231475330889225,\n",
       " 0.010714692994952202,\n",
       " 0.027072712779045105,\n",
       " 0.0064821988344192505,\n",
       " -0.0383136086165905,\n",
       " -0.005132376216351986,\n",
       " 0.03996085003018379,\n",
       " -0.012239916250109673,\n",
       " 0.06546258181333542,\n",
       " 0.025089923292398453,\n",
       " 0.09157440811395645,\n",
       " -0.09724823385477066,\n",
       " -0.01725027523934841,\n",
       " 0.0433773510158062,\n",
       " 0.010089351795613766,\n",
       " 0.024037519469857216,\n",
       " -0.024723868817090988,\n",
       " 0.016823211684823036,\n",
       " -0.04694637283682823,\n",
       " 0.049447737634181976,\n",
       " -0.007221932057291269,\n",
       " 0.009471636265516281,\n",
       " -0.05469450727105141,\n",
       " -0.002234452171251178,\n",
       " -0.017433302477002144,\n",
       " 0.002918896032497287,\n",
       " 0.033097345381975174,\n",
       " 0.06399837136268616,\n",
       " 0.05234566330909729,\n",
       " 0.08858496695756912,\n",
       " -0.018729740753769875,\n",
       " -0.15252232551574707,\n",
       " 0.094685859978199,\n",
       " 0.008053178898990154,\n",
       " 0.034348029643297195,\n",
       " -0.04773948714137077,\n",
       " -0.10938901454210281,\n",
       " 0.022786835208535194,\n",
       " -0.06692679971456528,\n",
       " -0.007080848794430494,\n",
       " 0.03120606765151024,\n",
       " 0.047647975385189056,\n",
       " 0.06033783033490181,\n",
       " -0.014176949858665466,\n",
       " -0.009166591800749302,\n",
       " 0.06546258181333542,\n",
       " 0.02810986526310444,\n",
       " -0.04456702247262001,\n",
       " 0.03447004407644272,\n",
       " 0.0642424002289772,\n",
       " 0.019675379619002342,\n",
       " 0.021825945004820824,\n",
       " 0.021261611953377724,\n",
       " 0.02704220823943615,\n",
       " -0.040418416261672974,\n",
       " -0.02800309844315052,\n",
       " 0.02191745862364769,\n",
       " 0.007122792769223452,\n",
       " -0.08400929719209671,\n",
       " 0.0055670649744570255,\n",
       " -0.030885770916938782,\n",
       " 0.06006329134106636,\n",
       " 0.04005236178636551,\n",
       " -0.11695411801338196,\n",
       " 0.0552130825817585,\n",
       " 0.025562742725014687,\n",
       " -0.0608564093708992,\n",
       " -0.051186490803956985,\n",
       " 0.3035804331302643,\n",
       " -0.018516210839152336,\n",
       " 0.02754553221166134,\n",
       " 0.04706839099526405,\n",
       " -0.03172464296221733,\n",
       " 0.027515027672052383,\n",
       " -0.05347432568669319,\n",
       " -0.022527547553181648,\n",
       " -0.042279187589883804,\n",
       " -0.04209616035223007,\n",
       " 0.057714447379112244,\n",
       " -0.009212348610162735,\n",
       " -0.0354766920208931,\n",
       " 0.05765343829989433,\n",
       " -0.00195037922821939,\n",
       " -0.010150360874831676,\n",
       " -0.03797806054353714,\n",
       " 0.05255919322371483,\n",
       " 0.047129400074481964,\n",
       " 0.038679663091897964,\n",
       " 0.05289474129676819,\n",
       " 0.01589282602071762,\n",
       " 0.008129440248012543,\n",
       " -0.004552791360765696,\n",
       " 0.014924309216439724,\n",
       " -0.006821561139076948,\n",
       " -0.01932457834482193,\n",
       " -0.002402226673439145,\n",
       " 0.04066245257854462,\n",
       " -0.020834550261497498,\n",
       " 0.0214141346514225,\n",
       " 0.011446801014244556,\n",
       " 0.009403001517057419,\n",
       " -0.08236205577850342,\n",
       " 0.0557926669716835,\n",
       " 0.044658537954092026,\n",
       " -0.023473186418414116,\n",
       " 0.003189623123034835,\n",
       " -0.01501582283526659,\n",
       " 0.015877574682235718,\n",
       " 0.00032601648126728833,\n",
       " -0.07125843316316605,\n",
       " -0.028719954192638397,\n",
       " 0.08809689432382584,\n",
       " -0.08193499594926834,\n",
       " 0.009479262866079807,\n",
       " 0.03919823840260506,\n",
       " -0.0019789771176874638,\n",
       " 0.045329634100198746,\n",
       " -0.0010238061659038067,\n",
       " 0.03703242167830467,\n",
       " -0.03306683897972107,\n",
       " 0.0895611122250557,\n",
       " 0.032029688358306885,\n",
       " 0.013063536956906319,\n",
       " 0.021337874233722687,\n",
       " 0.009875820949673653,\n",
       " -0.021276865154504776,\n",
       " -0.0354766920208931,\n",
       " -0.02112434245646,\n",
       " 0.08443635702133179,\n",
       " -0.007969291880726814,\n",
       " 0.01050878781825304,\n",
       " -0.05356584116816521,\n",
       " -0.01578606106340885,\n",
       " -0.0077671995386481285,\n",
       " -0.15984340012073517,\n",
       " 0.005761530715972185,\n",
       " 0.05262020230293274,\n",
       " -0.040814973413944244,\n",
       " -0.0056090084835886955,\n",
       " -0.014428611844778061,\n",
       " -0.005776782985776663,\n",
       " 0.020834550261497498,\n",
       " -0.028811467811465263,\n",
       " 0.06997724622488022,\n",
       " -0.02716422639787197,\n",
       " 0.023900248110294342,\n",
       " 0.09456384181976318,\n",
       " -0.00495697557926178,\n",
       " -0.0005643325857818127,\n",
       " -0.02354944683611393,\n",
       " -0.034958116710186005,\n",
       " -0.10920598357915878,\n",
       " 0.05798899009823799,\n",
       " 0.06326626241207123,\n",
       " -0.028536926954984665,\n",
       " 0.019568614661693573,\n",
       " -0.013498226180672646,\n",
       " 0.08535149693489075,\n",
       " -0.014337098225951195,\n",
       " 0.02045324444770813,\n",
       " 0.04838008061051369,\n",
       " -0.07455291599035263,\n",
       " 0.06906210631132126,\n",
       " -0.040143877267837524,\n",
       " -0.012163655832409859,\n",
       " 0.007587985601276159,\n",
       " 0.04212666675448418,\n",
       " 0.004785387776792049,\n",
       " -0.05551812797784805,\n",
       " 0.009708045981824398,\n",
       " -0.006337302736938,\n",
       " 0.024876391515135765,\n",
       " 0.03617829456925392,\n",
       " 0.060825902968645096,\n",
       " -0.005090432707220316,\n",
       " 0.0018188287504017353,\n",
       " -0.053321804851293564,\n",
       " 0.03425651416182518,\n",
       " 0.014459116384387016,\n",
       " -0.0031839036382734776,\n",
       " 0.01740279793739319,\n",
       " 0.11969952285289764,\n",
       " -0.014619264751672745,\n",
       " 0.004995106253772974,\n",
       " -0.07003825157880783,\n",
       " -0.03578173741698265,\n",
       " 0.042340196669101715,\n",
       " -0.04688536375761032,\n",
       " -0.03965580463409424,\n",
       " -0.005120937246829271,\n",
       " 0.059361688792705536,\n",
       " 0.029497817158699036,\n",
       " -0.263558566570282,\n",
       " 0.0416996031999588,\n",
       " -0.0015948115615174174,\n",
       " -0.07534603029489517,\n",
       " -0.014787039719522,\n",
       " -0.028186125680804253,\n",
       " -0.00026476921630091965,\n",
       " -0.047464948147535324,\n",
       " 0.056768808513879776,\n",
       " 0.0377645269036293,\n",
       " -0.017174014821648598,\n",
       " 0.015969088301062584,\n",
       " 0.060490354895591736,\n",
       " 0.02974185347557068,\n",
       " 0.060825902968645096,\n",
       " 0.01645715907216072,\n",
       " 0.023091880604624748,\n",
       " -0.05551812797784805,\n",
       " 0.03785604238510132,\n",
       " 0.014710778370499611,\n",
       " -0.03694090619683266,\n",
       " 0.013094041496515274,\n",
       " 0.031968679279088974,\n",
       " -0.012773744761943817,\n",
       " -0.0060742017813026905,\n",
       " -0.09541796892881393,\n",
       " 0.05136951804161072,\n",
       " 0.0026557950768619776,\n",
       " 0.00873190350830555,\n",
       " 0.01047828420996666,\n",
       " 0.04209616035223007,\n",
       " 0.05323029309511185,\n",
       " -0.03819159045815468,\n",
       " -0.11500183492898941,\n",
       " -0.007984544150531292,\n",
       " 0.031129807233810425,\n",
       " 0.03178565204143524,\n",
       " 0.06942816078662872,\n",
       " -0.07894555479288101,\n",
       " -0.09889547526836395,\n",
       " 0.006520329508930445,\n",
       " 0.027362504974007607,\n",
       " 0.04072346165776253,\n",
       " -0.05826352909207344,\n",
       " 0.025089923292398453,\n",
       " 0.016319889575242996,\n",
       " -0.019583866000175476,\n",
       " 0.0405709370970726,\n",
       " -0.044597528874874115,\n",
       " -0.028780963271856308,\n",
       " 0.045390643179416656,\n",
       " 0.0009933016262948513,\n",
       " 0.07339373975992203,\n",
       " 0.025608498603105545,\n",
       " 0.04923420771956444,\n",
       " -0.028247134760022163,\n",
       " -0.059361688792705536,\n",
       " 0.016258880496025085,\n",
       " 0.0078091430477797985,\n",
       " -0.011004486121237278,\n",
       " -0.04834957793354988,\n",
       " 0.01062318030744791,\n",
       " -0.06192406266927719,\n",
       " -0.08108086884021759,\n",
       " 0.016914725303649902,\n",
       " -2.2401716705644503e-05,\n",
       " -0.02760654129087925,\n",
       " -0.13543982803821564,\n",
       " -0.053718362003564835,\n",
       " -0.11396468430757523,\n",
       " 0.002131499582901597,\n",
       " 0.0049302843399345875,\n",
       " -0.022802088409662247,\n",
       " 0.023061376065015793,\n",
       " 0.023701969534158707,\n",
       " -0.025059418752789497,\n",
       " 0.08034875988960266,\n",
       " 0.024937400594353676,\n",
       " 0.03498862311244011,\n",
       " -0.0326702818274498,\n",
       " -0.012949145399034023,\n",
       " 0.10621654987335205,\n",
       " 0.03712393343448639,\n",
       " -0.011515435762703419,\n",
       " -0.005475551355630159,\n",
       " 0.03953378647565842,\n",
       " 0.0608564093708992,\n",
       " -0.030168915167450905,\n",
       " 0.016823211684823036,\n",
       " -0.03419550508260727,\n",
       " -0.006280106958001852,\n",
       " -0.04133354872465134,\n",
       " 0.01796712912619114,\n",
       " -0.07748134434223175,\n",
       " 0.06430341303348541,\n",
       " -0.012796622700989246,\n",
       " -0.1702149212360382,\n",
       " 0.000554799975361675,\n",
       " 0.018272174522280693,\n",
       " 0.013559234328567982,\n",
       " -0.056585781276226044,\n",
       " -0.021673422306776047,\n",
       " 0.026965947821736336,\n",
       " -0.01448199525475502,\n",
       " -0.03425651416182518,\n",
       " 0.03694090619683266,\n",
       " -0.04670233651995659,\n",
       " -0.034378532320261,\n",
       " 0.003973206505179405,\n",
       " -0.01865348033607006,\n",
       " -0.015534399077296257,\n",
       " 0.0315721221268177,\n",
       " 0.09169641882181168,\n",
       " 0.015160718932747841,\n",
       " 0.008991191163659096,\n",
       " 0.012499204836785793,\n",
       " -0.030733248218894005,\n",
       " -0.036696869879961014,\n",
       " 0.07559006661176682,\n",
       " -0.06473047286272049,\n",
       " -0.02693544328212738,\n",
       " 0.02896399050951004,\n",
       " 0.023366419598460197,\n",
       " 0.01869923807680607,\n",
       " -0.006314424332231283,\n",
       " 0.03373793885111809,\n",
       " 0.02817087434232235,\n",
       " 0.0125373350456357,\n",
       " 0.05268121138215065,\n",
       " 0.030321437865495682,\n",
       " -0.0174638070166111,\n",
       " -0.013437217101454735,\n",
       " -0.047983523458242416,\n",
       " -0.03672737628221512,\n",
       " -0.03385995700955391,\n",
       " 0.026462623849511147,\n",
       " -0.057714447379112244,\n",
       " 0.003567115869373083,\n",
       " -0.1408086121082306,\n",
       " 0.025028914213180542,\n",
       " 0.06460845470428467,\n",
       " -0.059697236865758896,\n",
       " -0.04981379210948944,\n",
       " 0.026233840733766556,\n",
       " -0.04404844716191292,\n",
       " -0.009280983358621597,\n",
       " -0.017051996663212776,\n",
       " -0.03617829456925392,\n",
       " 0.003874066984280944,\n",
       " 0.03279229998588562,\n",
       " 0.04874613508582115,\n",
       " -0.0015528679359704256,\n",
       " -0.005990314297378063,\n",
       " -0.03785604238510132,\n",
       " 0.029558826237916946,\n",
       " 0.040753964334726334,\n",
       " 0.029665593057870865,\n",
       " 0.003384089097380638,\n",
       " -0.06125296652317047,\n",
       " 0.02017870359122753,\n",
       " -0.009357244707643986]"
      ]
     },
     "execution_count": 49,
     "metadata": {},
     "output_type": "execute_result"
    }
   ],
   "source": [
    "output.data[0].embedding     # full outcome of the output"
   ]
  },
  {
   "cell_type": "code",
   "execution_count": null,
   "metadata": {},
   "outputs": [],
   "source": [
    "# Putting the embedding output in a function\n",
    "\n",
    "def get_embedding(embedding_client, model_name, text_input):\n",
    "    output = embedding_client.embeddings.create(input=text_input, model=model_name)\n",
    "\n",
    "    embeddings = []\n",
    "    for embedding_object in output.data:\n",
    "        embeddings.append(embedding_object.embedding)\n",
    "\n",
    "    return embeddings"
   ]
  },
  {
   "cell_type": "code",
   "execution_count": 68,
   "metadata": {},
   "outputs": [
    {
     "data": {
      "text/plain": [
       "[[-0.053108274936676025,\n",
       "  -0.030245177447795868,\n",
       "  0.059697236865758896,\n",
       "  -0.0034374718088656664,\n",
       "  -0.03260927274823189,\n",
       "  -0.035019125789403915,\n",
       "  0.012209412641823292,\n",
       "  0.02626434527337551,\n",
       "  -0.011606949381530285,\n",
       "  0.03871016576886177,\n",
       "  0.06106993928551674,\n",
       "  0.011667957529425621,\n",
       "  -0.07601712644100189,\n",
       "  -0.0016844184137880802,\n",
       "  0.0912693589925766,\n",
       "  0.02321389876306057,\n",
       "  0.1165880635380745,\n",
       "  -0.14434713125228882,\n",
       "  -0.08181297779083252,\n",
       "  0.016533419489860535,\n",
       "  -0.012613596394658089,\n",
       "  -0.013482973910868168,\n",
       "  -0.036422330886125565,\n",
       "  -0.029787609353661537,\n",
       "  0.03413449600338936,\n",
       "  0.0630832314491272,\n",
       "  0.00046590802958235145,\n",
       "  -0.01740279793739319,\n",
       "  -0.009517393074929714,\n",
       "  -0.14520125091075897,\n",
       "  -0.006600403692573309,\n",
       "  -0.0044231475330889225,\n",
       "  0.010714692994952202,\n",
       "  0.027072712779045105,\n",
       "  0.0064821988344192505,\n",
       "  -0.0383136086165905,\n",
       "  -0.005132376216351986,\n",
       "  0.03996085003018379,\n",
       "  -0.012239916250109673,\n",
       "  0.06546258181333542,\n",
       "  0.025089923292398453,\n",
       "  0.09157440811395645,\n",
       "  -0.09724823385477066,\n",
       "  -0.01725027523934841,\n",
       "  0.0433773510158062,\n",
       "  0.010089351795613766,\n",
       "  0.024037519469857216,\n",
       "  -0.024723868817090988,\n",
       "  0.016823211684823036,\n",
       "  -0.04694637283682823,\n",
       "  0.049447737634181976,\n",
       "  -0.007221932057291269,\n",
       "  0.009471636265516281,\n",
       "  -0.05469450727105141,\n",
       "  -0.002234452171251178,\n",
       "  -0.017433302477002144,\n",
       "  0.002918896032497287,\n",
       "  0.033097345381975174,\n",
       "  0.06399837136268616,\n",
       "  0.05234566330909729,\n",
       "  0.08858496695756912,\n",
       "  -0.018729740753769875,\n",
       "  -0.15252232551574707,\n",
       "  0.094685859978199,\n",
       "  0.008053178898990154,\n",
       "  0.034348029643297195,\n",
       "  -0.04773948714137077,\n",
       "  -0.10938901454210281,\n",
       "  0.022786835208535194,\n",
       "  -0.06692679971456528,\n",
       "  -0.007080848794430494,\n",
       "  0.03120606765151024,\n",
       "  0.047647975385189056,\n",
       "  0.06033783033490181,\n",
       "  -0.014176949858665466,\n",
       "  -0.009166591800749302,\n",
       "  0.06546258181333542,\n",
       "  0.02810986526310444,\n",
       "  -0.04456702247262001,\n",
       "  0.03447004407644272,\n",
       "  0.0642424002289772,\n",
       "  0.019675379619002342,\n",
       "  0.021825945004820824,\n",
       "  0.021261611953377724,\n",
       "  0.02704220823943615,\n",
       "  -0.040418416261672974,\n",
       "  -0.02800309844315052,\n",
       "  0.02191745862364769,\n",
       "  0.007122792769223452,\n",
       "  -0.08400929719209671,\n",
       "  0.0055670649744570255,\n",
       "  -0.030885770916938782,\n",
       "  0.06006329134106636,\n",
       "  0.04005236178636551,\n",
       "  -0.11695411801338196,\n",
       "  0.0552130825817585,\n",
       "  0.025562742725014687,\n",
       "  -0.0608564093708992,\n",
       "  -0.051186490803956985,\n",
       "  0.3035804331302643,\n",
       "  -0.018516210839152336,\n",
       "  0.02754553221166134,\n",
       "  0.04706839099526405,\n",
       "  -0.03172464296221733,\n",
       "  0.027515027672052383,\n",
       "  -0.05347432568669319,\n",
       "  -0.022527547553181648,\n",
       "  -0.042279187589883804,\n",
       "  -0.04209616035223007,\n",
       "  0.057714447379112244,\n",
       "  -0.009212348610162735,\n",
       "  -0.0354766920208931,\n",
       "  0.05765343829989433,\n",
       "  -0.00195037922821939,\n",
       "  -0.010150360874831676,\n",
       "  -0.03797806054353714,\n",
       "  0.05255919322371483,\n",
       "  0.047129400074481964,\n",
       "  0.038679663091897964,\n",
       "  0.05289474129676819,\n",
       "  0.01589282602071762,\n",
       "  0.008129440248012543,\n",
       "  -0.004552791360765696,\n",
       "  0.014924309216439724,\n",
       "  -0.006821561139076948,\n",
       "  -0.01932457834482193,\n",
       "  -0.002402226673439145,\n",
       "  0.04066245257854462,\n",
       "  -0.020834550261497498,\n",
       "  0.0214141346514225,\n",
       "  0.011446801014244556,\n",
       "  0.009403001517057419,\n",
       "  -0.08236205577850342,\n",
       "  0.0557926669716835,\n",
       "  0.044658537954092026,\n",
       "  -0.023473186418414116,\n",
       "  0.003189623123034835,\n",
       "  -0.01501582283526659,\n",
       "  0.015877574682235718,\n",
       "  0.00032601648126728833,\n",
       "  -0.07125843316316605,\n",
       "  -0.028719954192638397,\n",
       "  0.08809689432382584,\n",
       "  -0.08193499594926834,\n",
       "  0.009479262866079807,\n",
       "  0.03919823840260506,\n",
       "  -0.0019789771176874638,\n",
       "  0.045329634100198746,\n",
       "  -0.0010238061659038067,\n",
       "  0.03703242167830467,\n",
       "  -0.03306683897972107,\n",
       "  0.0895611122250557,\n",
       "  0.032029688358306885,\n",
       "  0.013063536956906319,\n",
       "  0.021337874233722687,\n",
       "  0.009875820949673653,\n",
       "  -0.021276865154504776,\n",
       "  -0.0354766920208931,\n",
       "  -0.02112434245646,\n",
       "  0.08443635702133179,\n",
       "  -0.007969291880726814,\n",
       "  0.01050878781825304,\n",
       "  -0.05356584116816521,\n",
       "  -0.01578606106340885,\n",
       "  -0.0077671995386481285,\n",
       "  -0.15984340012073517,\n",
       "  0.005761530715972185,\n",
       "  0.05262020230293274,\n",
       "  -0.040814973413944244,\n",
       "  -0.0056090084835886955,\n",
       "  -0.014428611844778061,\n",
       "  -0.005776782985776663,\n",
       "  0.020834550261497498,\n",
       "  -0.028811467811465263,\n",
       "  0.06997724622488022,\n",
       "  -0.02716422639787197,\n",
       "  0.023900248110294342,\n",
       "  0.09456384181976318,\n",
       "  -0.00495697557926178,\n",
       "  -0.0005643325857818127,\n",
       "  -0.02354944683611393,\n",
       "  -0.034958116710186005,\n",
       "  -0.10920598357915878,\n",
       "  0.05798899009823799,\n",
       "  0.06326626241207123,\n",
       "  -0.028536926954984665,\n",
       "  0.019568614661693573,\n",
       "  -0.013498226180672646,\n",
       "  0.08535149693489075,\n",
       "  -0.014337098225951195,\n",
       "  0.02045324444770813,\n",
       "  0.04838008061051369,\n",
       "  -0.07455291599035263,\n",
       "  0.06906210631132126,\n",
       "  -0.040143877267837524,\n",
       "  -0.012163655832409859,\n",
       "  0.007587985601276159,\n",
       "  0.04212666675448418,\n",
       "  0.004785387776792049,\n",
       "  -0.05551812797784805,\n",
       "  0.009708045981824398,\n",
       "  -0.006337302736938,\n",
       "  0.024876391515135765,\n",
       "  0.03617829456925392,\n",
       "  0.060825902968645096,\n",
       "  -0.005090432707220316,\n",
       "  0.0018188287504017353,\n",
       "  -0.053321804851293564,\n",
       "  0.03425651416182518,\n",
       "  0.014459116384387016,\n",
       "  -0.0031839036382734776,\n",
       "  0.01740279793739319,\n",
       "  0.11969952285289764,\n",
       "  -0.014619264751672745,\n",
       "  0.004995106253772974,\n",
       "  -0.07003825157880783,\n",
       "  -0.03578173741698265,\n",
       "  0.042340196669101715,\n",
       "  -0.04688536375761032,\n",
       "  -0.03965580463409424,\n",
       "  -0.005120937246829271,\n",
       "  0.059361688792705536,\n",
       "  0.029497817158699036,\n",
       "  -0.263558566570282,\n",
       "  0.0416996031999588,\n",
       "  -0.0015948115615174174,\n",
       "  -0.07534603029489517,\n",
       "  -0.014787039719522,\n",
       "  -0.028186125680804253,\n",
       "  -0.00026476921630091965,\n",
       "  -0.047464948147535324,\n",
       "  0.056768808513879776,\n",
       "  0.0377645269036293,\n",
       "  -0.017174014821648598,\n",
       "  0.015969088301062584,\n",
       "  0.060490354895591736,\n",
       "  0.02974185347557068,\n",
       "  0.060825902968645096,\n",
       "  0.01645715907216072,\n",
       "  0.023091880604624748,\n",
       "  -0.05551812797784805,\n",
       "  0.03785604238510132,\n",
       "  0.014710778370499611,\n",
       "  -0.03694090619683266,\n",
       "  0.013094041496515274,\n",
       "  0.031968679279088974,\n",
       "  -0.012773744761943817,\n",
       "  -0.0060742017813026905,\n",
       "  -0.09541796892881393,\n",
       "  0.05136951804161072,\n",
       "  0.0026557950768619776,\n",
       "  0.00873190350830555,\n",
       "  0.01047828420996666,\n",
       "  0.04209616035223007,\n",
       "  0.05323029309511185,\n",
       "  -0.03819159045815468,\n",
       "  -0.11500183492898941,\n",
       "  -0.007984544150531292,\n",
       "  0.031129807233810425,\n",
       "  0.03178565204143524,\n",
       "  0.06942816078662872,\n",
       "  -0.07894555479288101,\n",
       "  -0.09889547526836395,\n",
       "  0.006520329508930445,\n",
       "  0.027362504974007607,\n",
       "  0.04072346165776253,\n",
       "  -0.05826352909207344,\n",
       "  0.025089923292398453,\n",
       "  0.016319889575242996,\n",
       "  -0.019583866000175476,\n",
       "  0.0405709370970726,\n",
       "  -0.044597528874874115,\n",
       "  -0.028780963271856308,\n",
       "  0.045390643179416656,\n",
       "  0.0009933016262948513,\n",
       "  0.07339373975992203,\n",
       "  0.025608498603105545,\n",
       "  0.04923420771956444,\n",
       "  -0.028247134760022163,\n",
       "  -0.059361688792705536,\n",
       "  0.016258880496025085,\n",
       "  0.0078091430477797985,\n",
       "  -0.011004486121237278,\n",
       "  -0.04834957793354988,\n",
       "  0.01062318030744791,\n",
       "  -0.06192406266927719,\n",
       "  -0.08108086884021759,\n",
       "  0.016914725303649902,\n",
       "  -2.2401716705644503e-05,\n",
       "  -0.02760654129087925,\n",
       "  -0.13543982803821564,\n",
       "  -0.053718362003564835,\n",
       "  -0.11396468430757523,\n",
       "  0.002131499582901597,\n",
       "  0.0049302843399345875,\n",
       "  -0.022802088409662247,\n",
       "  0.023061376065015793,\n",
       "  0.023701969534158707,\n",
       "  -0.025059418752789497,\n",
       "  0.08034875988960266,\n",
       "  0.024937400594353676,\n",
       "  0.03498862311244011,\n",
       "  -0.0326702818274498,\n",
       "  -0.012949145399034023,\n",
       "  0.10621654987335205,\n",
       "  0.03712393343448639,\n",
       "  -0.011515435762703419,\n",
       "  -0.005475551355630159,\n",
       "  0.03953378647565842,\n",
       "  0.0608564093708992,\n",
       "  -0.030168915167450905,\n",
       "  0.016823211684823036,\n",
       "  -0.03419550508260727,\n",
       "  -0.006280106958001852,\n",
       "  -0.04133354872465134,\n",
       "  0.01796712912619114,\n",
       "  -0.07748134434223175,\n",
       "  0.06430341303348541,\n",
       "  -0.012796622700989246,\n",
       "  -0.1702149212360382,\n",
       "  0.000554799975361675,\n",
       "  0.018272174522280693,\n",
       "  0.013559234328567982,\n",
       "  -0.056585781276226044,\n",
       "  -0.021673422306776047,\n",
       "  0.026965947821736336,\n",
       "  -0.01448199525475502,\n",
       "  -0.03425651416182518,\n",
       "  0.03694090619683266,\n",
       "  -0.04670233651995659,\n",
       "  -0.034378532320261,\n",
       "  0.003973206505179405,\n",
       "  -0.01865348033607006,\n",
       "  -0.015534399077296257,\n",
       "  0.0315721221268177,\n",
       "  0.09169641882181168,\n",
       "  0.015160718932747841,\n",
       "  0.008991191163659096,\n",
       "  0.012499204836785793,\n",
       "  -0.030733248218894005,\n",
       "  -0.036696869879961014,\n",
       "  0.07559006661176682,\n",
       "  -0.06473047286272049,\n",
       "  -0.02693544328212738,\n",
       "  0.02896399050951004,\n",
       "  0.023366419598460197,\n",
       "  0.01869923807680607,\n",
       "  -0.006314424332231283,\n",
       "  0.03373793885111809,\n",
       "  0.02817087434232235,\n",
       "  0.0125373350456357,\n",
       "  0.05268121138215065,\n",
       "  0.030321437865495682,\n",
       "  -0.0174638070166111,\n",
       "  -0.013437217101454735,\n",
       "  -0.047983523458242416,\n",
       "  -0.03672737628221512,\n",
       "  -0.03385995700955391,\n",
       "  0.026462623849511147,\n",
       "  -0.057714447379112244,\n",
       "  0.003567115869373083,\n",
       "  -0.1408086121082306,\n",
       "  0.025028914213180542,\n",
       "  0.06460845470428467,\n",
       "  -0.059697236865758896,\n",
       "  -0.04981379210948944,\n",
       "  0.026233840733766556,\n",
       "  -0.04404844716191292,\n",
       "  -0.009280983358621597,\n",
       "  -0.017051996663212776,\n",
       "  -0.03617829456925392,\n",
       "  0.003874066984280944,\n",
       "  0.03279229998588562,\n",
       "  0.04874613508582115,\n",
       "  -0.0015528679359704256,\n",
       "  -0.005990314297378063,\n",
       "  -0.03785604238510132,\n",
       "  0.029558826237916946,\n",
       "  0.040753964334726334,\n",
       "  0.029665593057870865,\n",
       "  0.003384089097380638,\n",
       "  -0.06125296652317047,\n",
       "  0.02017870359122753,\n",
       "  -0.009357244707643986]]"
      ]
     },
     "execution_count": 68,
     "metadata": {},
     "output_type": "execute_result"
    }
   ],
   "source": [
    "# testing the function \n",
    "\n",
    "output = get_embedding(embedding_client, model_name=model_name, text_input=user_prompt)\n",
    "output"
   ]
  },
  {
   "cell_type": "code",
   "execution_count": 69,
   "metadata": {},
   "outputs": [
    {
     "data": {
      "text/plain": [
       "'meta-llama/Llama-3.2-1B-Instruct'"
      ]
     },
     "execution_count": 69,
     "metadata": {},
     "output_type": "execute_result"
    }
   ],
   "source": [
    "model_name"
   ]
  },
  {
   "cell_type": "code",
   "execution_count": null,
   "metadata": {},
   "outputs": [
    {
     "data": {
      "text/plain": [
       "384"
      ]
     },
     "execution_count": 65,
     "metadata": {},
     "output_type": "execute_result"
    }
   ],
   "source": [
    "# length of first index of the output.\n",
    "len(output[0])"
   ]
  },
  {
   "cell_type": "markdown",
   "metadata": {},
   "source": [
    "### Calculating Cosine Similarity"
   ]
  },
  {
   "cell_type": "code",
   "execution_count": 75,
   "metadata": {},
   "outputs": [],
   "source": [
    "data = [\"iphone_16\", \"samsung_s23\"]\n",
    "user_prompt = \"What is new in iphone_16?\""
   ]
  },
  {
   "cell_type": "code",
   "execution_count": null,
   "metadata": {},
   "outputs": [],
   "source": [
    "# get embeddings of both data and user_prompt\n",
    "\n",
    "user_prompt_embedding = get_embedding(embedding_client, model_name=model_name, text_input=user_prompt)[0]\n",
    "data_embeddings = [get_embedding(embedding_client, model_name=model_name, text_input=text)[0] for text in data]"
   ]
  },
  {
   "cell_type": "code",
   "execution_count": 80,
   "metadata": {},
   "outputs": [
    {
     "data": {
      "text/plain": [
       "array([[0.86127169, 0.5575734 ]])"
      ]
     },
     "execution_count": 80,
     "metadata": {},
     "output_type": "execute_result"
    }
   ],
   "source": [
    "# similarity score of user embedding and data embedding\n",
    "similarity_score = cosine_similarity([user_prompt_embedding], data_embeddings)\n",
    "similarity_score"
   ]
  },
  {
   "cell_type": "code",
   "execution_count": null,
   "metadata": {},
   "outputs": [
    {
     "data": {
      "text/plain": [
       "np.int64(0)"
      ]
     },
     "execution_count": 81,
     "metadata": {},
     "output_type": "execute_result"
    }
   ],
   "source": [
    "# get thr index with greater similarity score\n",
    "sim_score = similarity_score.argmax()\n",
    "sim_score"
   ]
  },
  {
   "cell_type": "code",
   "execution_count": null,
   "metadata": {},
   "outputs": [],
   "source": []
  }
 ],
 "metadata": {
  "kernelspec": {
   "display_name": "coffeeshop_env",
   "language": "python",
   "name": "python3"
  },
  "language_info": {
   "codemirror_mode": {
    "name": "ipython",
    "version": 3
   },
   "file_extension": ".py",
   "mimetype": "text/x-python",
   "name": "python",
   "nbconvert_exporter": "python",
   "pygments_lexer": "ipython3",
   "version": "3.11.10"
  }
 },
 "nbformat": 4,
 "nbformat_minor": 2
}
