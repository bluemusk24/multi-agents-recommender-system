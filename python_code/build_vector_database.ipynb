{
 "cells": [
  {
   "cell_type": "code",
   "execution_count": 2,
   "metadata": {},
   "outputs": [
    {
     "name": "stderr",
     "output_type": "stream",
     "text": [
      "/home/bluemusk/anaconda3/envs/coffeeshop_env/lib/python3.11/site-packages/pinecone/data/index.py:1: TqdmWarning: IProgress not found. Please update jupyter and ipywidgets. See https://ipywidgets.readthedocs.io/en/stable/user_install.html\n",
      "  from tqdm.autonotebook import tqdm\n"
     ]
    }
   ],
   "source": [
    "from pinecone import Pinecone, ServerlessSpec\n",
    "import os\n",
    "from openai import OpenAI\n",
    "import pandas as pd\n",
    "from time import time\n",
    "from dotenv import load_dotenv, find_dotenv\n",
    "\n",
    "# load .env file\n",
    "_ = load_dotenv(find_dotenv())"
   ]
  },
  {
   "cell_type": "code",
   "execution_count": 3,
   "metadata": {},
   "outputs": [],
   "source": [
    "# call the .env file\n",
    "\n",
    "token = os.getenv(\"RUNPOD_TOKEN\")\n",
    "pinecone_api_key = os.getenv(\"PINECONE_API_KEY\")\n",
    "open_ai_base_url = os.getenv(\"RUNPOD_EMBEDDING_URL\")\n",
    "model_name = os.getenv(\"MODEL_NAME\")\n",
    "index_name = os.getenv(\"PINECONE_INDEX_NAME\")\n"
   ]
  },
  {
   "cell_type": "code",
   "execution_count": null,
   "metadata": {},
   "outputs": [],
   "source": [
    "# pinecone_api_key"
   ]
  },
  {
   "cell_type": "code",
   "execution_count": 6,
   "metadata": {},
   "outputs": [],
   "source": [
    "# initialize pinecone and the embedding model from RUNPOD\n",
    "\n",
    "pc = Pinecone(api_key=pinecone_api_key)\n",
    "\n",
    "client = OpenAI(\n",
    "  api_key=token, \n",
    "  base_url=open_ai_base_url\n",
    ")"
   ]
  },
  {
   "cell_type": "markdown",
   "metadata": {},
   "source": [
    "#### Try Out Embeddings"
   ]
  },
  {
   "cell_type": "code",
   "execution_count": 7,
   "metadata": {},
   "outputs": [
    {
     "name": "stdout",
     "output_type": "stream",
     "text": [
      "[-0.0596640408039093, -0.06769045442342758, 0.08294980227947235, -0.06872808933258057, 0.016174906864762306, 0.007702154573053122, 0.060121823102235794, 0.06244124099612236, 0.04361120983958244, -0.019715074449777603, -0.01293229591101408, -0.060701675713062286, 0.02526947669684887, 0.03637827932834625, 0.038056809455156326, -0.0018368437886238098, 0.006443258840590715, -0.04861627519130707, -0.11871770769357681, -0.02786356583237648, 0.04031519219279289, 0.0465715229511261, -0.039430148899555206, -0.0266580767929554, 0.011635251343250275, -0.00928531214594841, 0.0025425883941352367, 0.009979612194001675, -0.001072922721505165, -0.07635776698589325, -0.0024796435609459877, -0.0038072066381573677, 0.050142209976911545, 0.0036088351625949144, 0.04528973624110222, -0.030167726799845695, 0.040040522813797, -0.0073664491064846516, -0.0659814104437828, -0.018128102645277977, 0.0599081926047802, -0.029725205153226852, 0.008667307905852795, -0.02916060946881771, 0.018234917894005775, -0.04107815772294998, 0.028702829033136368, 0.05771084502339363, 0.052064888179302216, 0.022812722250819206, -0.0198371484875679, 0.010116945952177048, -0.013092518784105778, 0.00857575237751007, 0.02519317902624607, 0.09350927174091339, 0.09241059422492981, -0.00901827309280634, 0.021424122154712677, 0.015343272127211094, 0.028107713907957077, 0.013809707947075367, -0.16211529076099396, 0.08356017619371414, -0.011482657864689827, -0.02722267247736454, 0.009544720873236656, -0.021698789671063423, -0.003135795472189784, 0.011482657864689827, 0.020767970010638237, -0.0054094381630420685, -0.016388537362217903, 0.04925716668367386, 0.002510162303224206, 0.028184011578559875, 0.05117984488606453, -0.026368148624897003, 0.044770918786525726, -0.05121036246418953, -0.009323460049927235, -0.004203949589282274, 0.01554927323013544, -0.007290152367204428, -0.015122011303901672, -0.033173818141222, -0.011467398144304752, 0.06039648875594139, -0.040864527225494385, 0.02452176809310913, -0.027451563626527786, -0.004551100078970194, 0.02058485709130764, 0.049562353640794754, -0.043367061764001846, -0.03375367447733879, -0.007561005651950836, 0.03903340548276901, -0.04226838797330856, 0.28101611137390137, -0.07355004549026489, 0.005848144181072712, 0.09112881124019623, -0.046754635870456696, -0.009407386183738708, 0.04696826636791229, 0.0021706419065594673, -0.014954159036278725, -1.1325295190545148e-06, -0.020752709358930588, 0.04040674865245819, -0.03454715758562088, 0.0031090916600078344, -0.007522857282310724, 0.022934796288609505, -0.026963263750076294, 0.022309163585305214, 0.018189139664173126, 0.11413990706205368, -0.07434353232383728, 0.01456504501402378, 0.020417004823684692, -0.09570661932229996, 0.0007257726392708719, 0.06219709292054176, -0.05233955755829811, 0.07348901033401489, 0.11200359463691711, -0.018173880875110626, 0.022751685231924057, 0.015190678648650646, 0.0726344883441925, -0.050172727555036545, 9.483444591751322e-05, -0.023545170202851295, 0.015640828758478165, -0.022965315729379654, -0.016937874257564545, -0.01497704815119505, -0.0463273748755455, -0.009277681820094585, -0.11011143773794174, -0.038880813866853714, -0.12036571651697159, 0.018112843856215477, 0.007496153470128775, -0.005630698520690203, 0.014191191643476486, -0.01096383947879076, 0.013573188334703445, -0.04370276629924774, 0.033173818141222, -0.018753735348582268, -0.030808618292212486, 0.017090467736124992, -0.023377317935228348, 0.030396616086363792, 0.027512600645422935, 0.0149312699213624, 0.0330212228000164, -0.0011539880651980639, -0.023529911413788795, 0.009384498000144958, -0.02528473548591137, -0.05505571886897087, -0.13550299406051636, 0.016083350405097008, 0.013962301425635815, 0.009445535019040108, 0.025528885424137115, 0.028229789808392525, 0.01597653515636921, -0.03451664000749588, 0.036256205290555954, 0.11212567239999771, 0.014687119983136654, -0.015419568866491318, 0.01355792861431837, -0.015190678648650646, -0.013847855851054192, 0.034180935472249985, -0.051393475383520126, -0.016083350405097008, -0.01293229591101408, 0.010162724182009697, -0.012634738348424435, 0.01560268085449934, 0.01850958541035652, 0.003742354456335306, 0.05056947097182274, -6.675963959423825e-06, 0.03433352708816528, 0.00045444240095093846, 0.011322434060275555, -0.05243111029267311, 0.008087453432381153, 0.04907405748963356, -0.03732435777783394, 0.0060350713320076466, -0.012146439403295517, 0.05764980986714363, -0.0010061630746349692, 0.017029430717229843, 0.046205297112464905, 0.06131204962730408, -0.00777463661506772, 0.02458280511200428, -0.020859526470303535, 0.033509522676467896, 0.008461306802928448, -0.011047766543924809, -0.02658178098499775, 0.09021325409412384, -0.011177470907568932, -0.0265360027551651, -0.07074232399463654, -0.02853497676551342, 0.05511675775051117, -0.029496315866708755, 0.038178883492946625, 0.02330102026462555, -0.014504007995128632, -0.10467911511659622, -0.2673437297344208, 0.07361108064651489, -0.005504808854311705, -0.040254153311252594, 0.02789408341050148, -0.04861627519130707, 0.061403606086969376, -0.0069086686708033085, 0.09546246379613876, -0.008148490451276302, 0.017456691712141037, -0.07202411442995071, 0.0035611498169600964, 0.00777463661506772, 0.028855422511696815, 0.041566457599401474, -0.027436302974820137, -0.009376867674291134, -0.0010357281425967813, -0.03469975292682648, 0.012260884046554565, -0.012703405693173409, 0.03207514435052872, -0.01930307224392891, -0.008743604645133018, -0.020050780847668648, 0.16809695959091187, 0.14734424650669098, 0.027634674683213234, 0.015350901521742344, 0.03125113993883133, -0.05130191892385483, -0.017410913482308388, -0.18274591863155365, 0.04324498400092125, 0.08850420266389847, 0.0038682441227138042, -0.09399756789207458, -0.055421944707632065, -0.025071104988455772, -0.023606207221746445, 0.005817625671625137, 0.0012159791076555848, -0.02859601378440857, -0.0070765214040875435, -0.10480118542909622, -0.04794486239552498, 0.02919112890958786, -0.06726319342851639, 0.005958774592727423, 0.020188113674521446, -0.05032532289624214, 0.02983202040195465, 0.038148365914821625, 0.020264411345124245, -0.08435366302728653, -0.011185100302100182, -0.01721254177391529, -0.016220685094594955, 0.08746656775474548, -0.034913383424282074, 0.03604257479310036, -0.011352953501045704, -0.01725832000374794, -0.05172918364405632, 0.07147477567195892, -0.019608259201049805, -0.009361608885228634, 0.0791654884815216, -0.003213999792933464, -0.0008497548406012356, -0.06244124099612236, -0.020417004823684692, -0.01459556445479393, 0.03778214007616043, 0.048707831650972366, 0.0017519636312499642, 0.014023338444530964, -0.013016222044825554, -0.04754812270402908, 0.03524908795952797, -0.028077196329832077, 0.040772970765829086, -0.0016565927071496844, -0.003444797359406948, 0.080020010471344, 0.05496416240930557, -0.034791309386491776, 0.021683530882000923, -0.04989806190133095, -0.007950118742883205, 0.02786356583237648, -0.006607296876609325, -0.10449600219726562, 0.019013144075870514, -0.01593075692653656, -0.2666112780570984, 0.0794096365571022, -0.011932807974517345, -0.00666451919823885, -0.044252101331949234, 0.06100686267018318, 0.040223635733127594, 0.05163762718439102, -0.0730007067322731, 0.01034583617001772, -0.03433352708816528, 0.07147477567195892, 0.053560301661491394, 0.03582894429564476, -0.04309239238500595, 0.06100686267018318, 0.028412900865077972, -0.05172918364405632, 0.004394691437482834, -0.03250240534543991, -0.003774780547246337, -0.005367474630475044, 0.19678452610969543, -0.0529499277472496, 0.0665307492017746, 0.011169841513037682, -0.007812784984707832, 0.011757326312363148, -0.005226325709372759, -0.00567266158759594, -0.010086427442729473, -0.0010691079078242183, -0.014465860091149807, -0.04788382723927498, 0.034211453050374985, 0.016831059008836746, -0.0797148197889328, 0.011581843718886375, 0.008835161104798317, -0.040895044803619385, -0.06457754969596863, -0.004734212066978216, -0.059419892728328705, 0.02056959830224514, 0.060030266642570496, -0.02844342030584812, -0.026780150830745697, -0.017746619880199432, -0.021088415756821632, 0.0012274236651137471, 0.012131179682910442, 0.0040856897830963135, -0.00019443743804004043, 0.03114432469010353, 0.0041734310798347, -0.0009208061383105814, -0.012306662276387215, -0.015732385218143463, 0.024109765887260437, -0.06842290610074997, -0.01867743954062462, -0.02519317902624607, 0.035523757338523865, 0.045442331582307816, -0.011810733936727047]\n"
     ]
    }
   ],
   "source": [
    "output = client.embeddings.create(input = [\"hello there\"], model=model_name)\n",
    "embeddings = output.data[0].embedding\n",
    "print(embeddings)"
   ]
  },
  {
   "cell_type": "code",
   "execution_count": 8,
   "metadata": {},
   "outputs": [
    {
     "data": {
      "text/plain": [
       "384"
      ]
     },
     "execution_count": 8,
     "metadata": {},
     "output_type": "execute_result"
    }
   ],
   "source": [
    "len(embeddings)"
   ]
  },
  {
   "cell_type": "markdown",
   "metadata": {},
   "source": [
    "#### Wrangle Dataset"
   ]
  },
  {
   "cell_type": "code",
   "execution_count": 10,
   "metadata": {},
   "outputs": [
    {
     "data": {
      "text/html": [
       "<div>\n",
       "<style scoped>\n",
       "    .dataframe tbody tr th:only-of-type {\n",
       "        vertical-align: middle;\n",
       "    }\n",
       "\n",
       "    .dataframe tbody tr th {\n",
       "        vertical-align: top;\n",
       "    }\n",
       "\n",
       "    .dataframe thead th {\n",
       "        text-align: right;\n",
       "    }\n",
       "</style>\n",
       "<table border=\"1\" class=\"dataframe\">\n",
       "  <thead>\n",
       "    <tr style=\"text-align: right;\">\n",
       "      <th></th>\n",
       "      <th>name</th>\n",
       "      <th>category</th>\n",
       "      <th>description</th>\n",
       "      <th>ingredients</th>\n",
       "      <th>price</th>\n",
       "      <th>rating</th>\n",
       "      <th>image_path</th>\n",
       "    </tr>\n",
       "  </thead>\n",
       "  <tbody>\n",
       "    <tr>\n",
       "      <th>0</th>\n",
       "      <td>Cappuccino</td>\n",
       "      <td>Coffee</td>\n",
       "      <td>A rich and creamy cappuccino made with freshly...</td>\n",
       "      <td>[Espresso, Steamed Milk, Milk Foam]</td>\n",
       "      <td>4.50</td>\n",
       "      <td>4.7</td>\n",
       "      <td>cappuccino.jpg</td>\n",
       "    </tr>\n",
       "    <tr>\n",
       "      <th>1</th>\n",
       "      <td>Jumbo Savory Scone</td>\n",
       "      <td>Bakery</td>\n",
       "      <td>Deliciously flaky and buttery, this jumbo savo...</td>\n",
       "      <td>[Flour, Butter, Cheese, Herbs, Baking Powder, ...</td>\n",
       "      <td>3.25</td>\n",
       "      <td>4.3</td>\n",
       "      <td>SavoryScone.webp</td>\n",
       "    </tr>\n",
       "    <tr>\n",
       "      <th>2</th>\n",
       "      <td>Latte</td>\n",
       "      <td>Coffee</td>\n",
       "      <td>Smooth and creamy, our latte combines rich esp...</td>\n",
       "      <td>[Espresso, Steamed Milk, Milk Foam]</td>\n",
       "      <td>4.75</td>\n",
       "      <td>4.8</td>\n",
       "      <td>Latte.jpg</td>\n",
       "    </tr>\n",
       "    <tr>\n",
       "      <th>3</th>\n",
       "      <td>Chocolate Chip Biscotti</td>\n",
       "      <td>Bakery</td>\n",
       "      <td>Crunchy and delightful, this chocolate chip bi...</td>\n",
       "      <td>[Flour, Sugar, Chocolate Chips, Eggs, Almonds,...</td>\n",
       "      <td>2.50</td>\n",
       "      <td>4.6</td>\n",
       "      <td>chocolat_biscotti.jpg</td>\n",
       "    </tr>\n",
       "    <tr>\n",
       "      <th>4</th>\n",
       "      <td>Espresso shot</td>\n",
       "      <td>Coffee</td>\n",
       "      <td>A bold shot of rich espresso, our espresso is ...</td>\n",
       "      <td>[Espresso]</td>\n",
       "      <td>2.00</td>\n",
       "      <td>4.9</td>\n",
       "      <td>Espresso_shot.webp</td>\n",
       "    </tr>\n",
       "  </tbody>\n",
       "</table>\n",
       "</div>"
      ],
      "text/plain": [
       "                      name category  \\\n",
       "0               Cappuccino   Coffee   \n",
       "1       Jumbo Savory Scone   Bakery   \n",
       "2                    Latte   Coffee   \n",
       "3  Chocolate Chip Biscotti   Bakery   \n",
       "4            Espresso shot   Coffee   \n",
       "\n",
       "                                         description  \\\n",
       "0  A rich and creamy cappuccino made with freshly...   \n",
       "1  Deliciously flaky and buttery, this jumbo savo...   \n",
       "2  Smooth and creamy, our latte combines rich esp...   \n",
       "3  Crunchy and delightful, this chocolate chip bi...   \n",
       "4  A bold shot of rich espresso, our espresso is ...   \n",
       "\n",
       "                                         ingredients  price  rating  \\\n",
       "0                [Espresso, Steamed Milk, Milk Foam]   4.50     4.7   \n",
       "1  [Flour, Butter, Cheese, Herbs, Baking Powder, ...   3.25     4.3   \n",
       "2                [Espresso, Steamed Milk, Milk Foam]   4.75     4.8   \n",
       "3  [Flour, Sugar, Chocolate Chips, Eggs, Almonds,...   2.50     4.6   \n",
       "4                                         [Espresso]   2.00     4.9   \n",
       "\n",
       "              image_path  \n",
       "0         cappuccino.jpg  \n",
       "1       SavoryScone.webp  \n",
       "2              Latte.jpg  \n",
       "3  chocolat_biscotti.jpg  \n",
       "4     Espresso_shot.webp  "
      ]
     },
     "execution_count": 10,
     "metadata": {},
     "output_type": "execute_result"
    }
   ],
   "source": [
    "df = pd.read_json('products/products.jsonl', lines=True)\n",
    "df.head(5)"
   ]
  },
  {
   "cell_type": "code",
   "execution_count": 16,
   "metadata": {},
   "outputs": [
    {
     "data": {
      "text/plain": [
       "0    Cappuccino : A rich and creamy cappuccino made...\n",
       "1    Jumbo Savory Scone : Deliciously flaky and but...\n",
       "2    Latte : Smooth and creamy, our latte combines ...\n",
       "Name: text, dtype: object"
      ]
     },
     "execution_count": 16,
     "metadata": {},
     "output_type": "execute_result"
    }
   ],
   "source": [
    "# define a text column\n",
    "\n",
    "df['text'] =  df['name'] + \" : \" + df['description'] + \\\n",
    "                \" -- Ingredients: \" + df['ingredients'].astype(str) + \\\n",
    "                \" -- Price: \" + df['price'].astype(str) + \\\n",
    "                \" -- rating: \" + df['rating'].astype(str) \n",
    "\n",
    "\n",
    "df['text'].head(3)"
   ]
  },
  {
   "cell_type": "code",
   "execution_count": 15,
   "metadata": {},
   "outputs": [
    {
     "data": {
      "text/plain": [
       "\"Cappuccino : A rich and creamy cappuccino made with freshly brewed espresso, steamed milk, and a frothy milk cap. This delightful drink offers a perfect balance of bold coffee flavor and smooth milk, making it an ideal companion for relaxing mornings or lively conversations. -- Ingredients: ['Espresso', 'Steamed Milk', 'Milk Foam'] -- Price: 4.5 -- rating: 4.7\""
      ]
     },
     "execution_count": 15,
     "metadata": {},
     "output_type": "execute_result"
    }
   ],
   "source": [
    "df['text'][0]"
   ]
  },
  {
   "cell_type": "code",
   "execution_count": 17,
   "metadata": {},
   "outputs": [
    {
     "data": {
      "text/plain": [
       "[\"Cappuccino : A rich and creamy cappuccino made with freshly brewed espresso, steamed milk, and a frothy milk cap. This delightful drink offers a perfect balance of bold coffee flavor and smooth milk, making it an ideal companion for relaxing mornings or lively conversations. -- Ingredients: ['Espresso', 'Steamed Milk', 'Milk Foam'] -- Price: 4.5 -- rating: 4.7\",\n",
       " \"Jumbo Savory Scone : Deliciously flaky and buttery, this jumbo savory scone is filled with herbs and cheese, creating a mouthwatering experience. Perfect for a hearty snack or a light lunch, it pairs beautifully with your favorite coffee or tea. -- Ingredients: ['Flour', 'Butter', 'Cheese', 'Herbs', 'Baking Powder', 'Salt'] -- Price: 3.25 -- rating: 4.3\"]"
      ]
     },
     "execution_count": 17,
     "metadata": {},
     "output_type": "execute_result"
    }
   ],
   "source": [
    "# convert to list\n",
    "texts = df['text'].tolist()\n",
    "texts[:2]"
   ]
  },
  {
   "cell_type": "code",
   "execution_count": null,
   "metadata": {},
   "outputs": [
    {
     "data": {
      "text/plain": [
       "\"Coffee shop Merry's Way about section: Welcome to Merry's Way Coffee, your neighborhood coffee shop located in the heart of Greenwich Village, New York City. At Merry's Way, we believe that coffee is more than just a drink—it’s an experience, a moment of joy, and a way to connect with others.\\n\\nOur Story\\nFounded in 2015, Merry’s Way started as a small family-owned café with one mission: to share the love of quality, ethically-sourced coffee with our community.\\n\\nMerry's passion for travel and coffee led her on a journey across South America, where she handpicked partnerships with small farms and cooperatives. We ensure that every cup we brew tells a story of dedication and care, from farm to table. Our beans are roasted in-house to bring out unique flavors that reflect the regions where they were grown.\\n\\nDelivery & Locations Served\\nIn addition to offering a cozy place to enjoy coffee in our café, we proudly deliver to Greenwich Village, SoHo, West Village, and Lower Manhattan. Whether you’re at home, in the office, or enjoying a day at Washington Square Park, we bring your favorite coffee right to your door. Just a click away, our delivery service ensures that you never miss your daily cup, no matter where you are.\\n\\nOur Menu\\nOur menu offers something for everyone, from our signature espresso blends to refreshing cold brews, artisanal teas, and fresh-baked goods sourced from local bakeries. We also cater to a variety of dietary needs with a range of plant-based milk options and gluten-free snacks.\\n\\nCommunity & Sustainability\\nAt Merry's Way, we are more than just coffee. We are part of the community, and we care deeply about sustainability. We use eco-friendly packaging, work with local farmers, and strive to minimize our carbon footprint. Our café regularly hosts events, such as live music nights, art showcases, and community fundraisers, making it a hub for creativity and connection.\\n\\nWorking Hours\\nWe're open every day to make sure you can get your coffee whenever you need it:\\n\\nMonday to Friday: 7 AM – 8 PM\\nSaturday: 8 AM – 8 PM\\nSunday: 8 AM – 6 PM\\nWhether you’re grabbing a coffee on the go or staying to enjoy the warm, inviting atmosphere of our café, Merry’s Way is your destination for coffee done right.\\n\\nStop by today or order online—we can’t wait to serve you!\""
      ]
     },
     "execution_count": 18,
     "metadata": {},
     "output_type": "execute_result"
    }
   ],
   "source": [
    "with open(\"products/Merry's_way_about_us.txt\") as f:\n",
    "    Merry_way_about_section = f.read()\n",
    "    \n",
    "Merry_way_about_section = \"Coffee shop Merry's Way about section: \" + Merry_way_about_section\n",
    "Merry_way_about_section"
   ]
  },
  {
   "cell_type": "code",
   "execution_count": 19,
   "metadata": {},
   "outputs": [
    {
     "data": {
      "text/plain": [
       "[\"Cappuccino : A rich and creamy cappuccino made with freshly brewed espresso, steamed milk, and a frothy milk cap. This delightful drink offers a perfect balance of bold coffee flavor and smooth milk, making it an ideal companion for relaxing mornings or lively conversations. -- Ingredients: ['Espresso', 'Steamed Milk', 'Milk Foam'] -- Price: 4.5 -- rating: 4.7\",\n",
       " \"Jumbo Savory Scone : Deliciously flaky and buttery, this jumbo savory scone is filled with herbs and cheese, creating a mouthwatering experience. Perfect for a hearty snack or a light lunch, it pairs beautifully with your favorite coffee or tea. -- Ingredients: ['Flour', 'Butter', 'Cheese', 'Herbs', 'Baking Powder', 'Salt'] -- Price: 3.25 -- rating: 4.3\",\n",
       " \"Latte : Smooth and creamy, our latte combines rich espresso with velvety steamed milk, creating a perfect balance of flavor and texture. Enjoy it as a comforting treat any time of day, whether you're starting your morning or taking a midday break. -- Ingredients: ['Espresso', 'Steamed Milk', 'Milk Foam'] -- Price: 4.75 -- rating: 4.8\",\n",
       " \"Chocolate Chip Biscotti : Crunchy and delightful, this chocolate chip biscotti is perfect for dipping in your coffee or enjoying on its own. Each bite offers a satisfying crunch and a burst of rich chocolate, making it a favorite for any biscotti lover. -- Ingredients: ['Flour', 'Sugar', 'Chocolate Chips', 'Eggs', 'Almonds', 'Baking Powder'] -- Price: 2.5 -- rating: 4.6\",\n",
       " \"Espresso shot : A bold shot of rich espresso, our espresso is crafted from the finest beans to deliver a robust flavor in every sip. Perfect for a quick pick-me-up, it can also serve as a base for your favorite coffee drinks. -- Ingredients: ['Espresso'] -- Price: 2.0 -- rating: 4.9\",\n",
       " \"Hazelnut Biscotti : These delicious hazelnut biscotti are perfect for a crunchy treat alongside your coffee. Infused with roasted hazelnuts, they provide a delightful nutty flavor that enhances your coffee experience. -- Ingredients: ['Flour', 'Sugar', 'Hazelnuts', 'Eggs', 'Baking Powder'] -- Price: 2.75 -- rating: 4.4\",\n",
       " \"Chocolate Croissant : Flaky and buttery, our chocolate croissant is filled with rich chocolate, making it a delightful pastry for any time. Perfect for breakfast or an afternoon snack, it's a sweet indulgence that never disappoints. -- Ingredients: ['Flour', 'Butter', 'Chocolate', 'Yeast', 'Sugar', 'Salt'] -- Price: 3.75 -- rating: 4.8\",\n",
       " \"Dark chocolate : Rich and indulgent, our dark chocolate drinking chocolate is made with premium cocoa. This luxurious beverage is perfect for a cozy treat on a chilly day, bringing warmth and comfort with every sip. -- Ingredients: ['Cocoa Powder', 'Sugar', 'Milk'] -- Price: 5.0 -- rating: 4.7\",\n",
       " \"Cranberry Scone : This delightful cranberry scone combines sweet and tart flavors, making it perfect for a breakfast treat or afternoon snack. Soft and crumbly, it pairs wonderfully with tea or coffee for a comforting experience. -- Ingredients: ['Flour', 'Butter', 'Cranberries', 'Sugar', 'Baking Powder', 'Eggs'] -- Price: 3.5 -- rating: 4.5\",\n",
       " \"Croissant : Our classic croissant is flaky and buttery, offering a delightful crunch with each bite. Whether enjoyed alone or filled with your favorite spread, it's a timeless pastry that elevates any meal. -- Ingredients: ['Flour', 'Butter', 'Yeast', 'Sugar', 'Salt'] -- Price: 3.25 -- rating: 4.7\",\n",
       " \"Almond Croissant : A delightful twist on the classic croissant, filled with almond cream and topped with slivered almonds for added crunch. This indulgent treat is perfect for those who love a sweet and nutty flavor combination. -- Ingredients: ['Flour', 'Butter', 'Almond Cream', 'Sugar', 'Almonds', 'Yeast'] -- Price: 4.0 -- rating: 4.8\",\n",
       " \"Ginger Biscotti : These spicy ginger biscotti are perfect for dipping and provide a delightful crunch with every bite. The warm flavor of ginger adds a unique twist that pairs beautifully with your favorite hot beverage. -- Ingredients: ['Flour', 'Sugar', 'Ginger', 'Eggs', 'Baking Powder'] -- Price: 2.5 -- rating: 4.7\",\n",
       " \"Oatmeal Scone : Nutty and wholesome, our oatmeal scone is a perfect snack for any time. Made with rolled oats and a hint of sweetness, it's a satisfying option for those who enjoy hearty baked goods. -- Ingredients: ['Flour', 'Oats', 'Butter', 'Sugar', 'Baking Powder', 'Eggs'] -- Price: 3.25 -- rating: 4.3\",\n",
       " \"Ginger Scone : Soft and fragrant, our ginger scone is perfect for a morning treat, infused with the warm spice of ginger. It's an inviting option that pairs beautifully with a cup of tea or coffee. -- Ingredients: ['Flour', 'Butter', 'Ginger', 'Sugar', 'Baking Powder', 'Eggs'] -- Price: 3.5 -- rating: 4.5\",\n",
       " \"Chocolate syrup : Our rich chocolate syrup is perfect for drizzling over desserts or adding to your favorite beverages. Its velvety texture and intense chocolate flavor make it an essential topping for any sweet creation. -- Ingredients: ['Sugar', 'Cocoa Powder', 'Water', 'Vanilla Extract'] -- Price: 1.5 -- rating: 4.8\",\n",
       " \"Hazelnut syrup : Add a nutty flavor to your drinks with our hazelnut syrup, perfect for lattes and desserts. Its smooth sweetness enhances a variety of beverages, making it a must-have for coffee lovers. -- Ingredients: ['Sugar', 'Water', 'Hazelnut Extract', 'Vanilla Extract'] -- Price: 1.5 -- rating: 4.7\",\n",
       " \"Carmel syrup : Sweet and creamy, our caramel syrup is ideal for topping your drinks and desserts with a rich caramel flavor. This versatile syrup elevates everything from coffee to ice cream, providing a luscious touch. -- Ingredients: ['Sugar', 'Water', 'Cream', 'Butter', 'Vanilla Extract'] -- Price: 1.5 -- rating: 4.9\",\n",
       " \"Sugar Free Vanilla syrup : Enjoy the sweet flavor of vanilla without the sugar, making it perfect for your coffee or dessert. This syrup offers a guilt-free way to enhance your beverages, ensuring you never miss out on flavor. -- Ingredients: ['Water', 'Natural Flavors', 'Sucralose'] -- Price: 1.5 -- rating: 4.4\",\n",
       " \"Coffee shop Merry's Way about section: Welcome to Merry's Way Coffee, your neighborhood coffee shop located in the heart of Greenwich Village, New York City. At Merry's Way, we believe that coffee is more than just a drink—it’s an experience, a moment of joy, and a way to connect with others.\\n\\nOur Story\\nFounded in 2015, Merry’s Way started as a small family-owned café with one mission: to share the love of quality, ethically-sourced coffee with our community.\\n\\nMerry's passion for travel and coffee led her on a journey across South America, where she handpicked partnerships with small farms and cooperatives. We ensure that every cup we brew tells a story of dedication and care, from farm to table. Our beans are roasted in-house to bring out unique flavors that reflect the regions where they were grown.\\n\\nDelivery & Locations Served\\nIn addition to offering a cozy place to enjoy coffee in our café, we proudly deliver to Greenwich Village, SoHo, West Village, and Lower Manhattan. Whether you’re at home, in the office, or enjoying a day at Washington Square Park, we bring your favorite coffee right to your door. Just a click away, our delivery service ensures that you never miss your daily cup, no matter where you are.\\n\\nOur Menu\\nOur menu offers something for everyone, from our signature espresso blends to refreshing cold brews, artisanal teas, and fresh-baked goods sourced from local bakeries. We also cater to a variety of dietary needs with a range of plant-based milk options and gluten-free snacks.\\n\\nCommunity & Sustainability\\nAt Merry's Way, we are more than just coffee. We are part of the community, and we care deeply about sustainability. We use eco-friendly packaging, work with local farmers, and strive to minimize our carbon footprint. Our café regularly hosts events, such as live music nights, art showcases, and community fundraisers, making it a hub for creativity and connection.\\n\\nWorking Hours\\nWe're open every day to make sure you can get your coffee whenever you need it:\\n\\nMonday to Friday: 7 AM – 8 PM\\nSaturday: 8 AM – 8 PM\\nSunday: 8 AM – 6 PM\\nWhether you’re grabbing a coffee on the go or staying to enjoy the warm, inviting atmosphere of our café, Merry’s Way is your destination for coffee done right.\\n\\nStop by today or order online—we can’t wait to serve you!\"]"
      ]
     },
     "execution_count": 19,
     "metadata": {},
     "output_type": "execute_result"
    }
   ],
   "source": [
    "# add texts to Merry_way\n",
    "texts.append(Merry_way_about_section)\n",
    "texts"
   ]
  },
  {
   "cell_type": "code",
   "execution_count": 20,
   "metadata": {},
   "outputs": [
    {
     "data": {
      "text/plain": [
       "[\"Cappuccino : A rich and creamy cappuccino made with freshly brewed espresso, steamed milk, and a frothy milk cap. This delightful drink offers a perfect balance of bold coffee flavor and smooth milk, making it an ideal companion for relaxing mornings or lively conversations. -- Ingredients: ['Espresso', 'Steamed Milk', 'Milk Foam'] -- Price: 4.5 -- rating: 4.7\",\n",
       " \"Jumbo Savory Scone : Deliciously flaky and buttery, this jumbo savory scone is filled with herbs and cheese, creating a mouthwatering experience. Perfect for a hearty snack or a light lunch, it pairs beautifully with your favorite coffee or tea. -- Ingredients: ['Flour', 'Butter', 'Cheese', 'Herbs', 'Baking Powder', 'Salt'] -- Price: 3.25 -- rating: 4.3\",\n",
       " \"Latte : Smooth and creamy, our latte combines rich espresso with velvety steamed milk, creating a perfect balance of flavor and texture. Enjoy it as a comforting treat any time of day, whether you're starting your morning or taking a midday break. -- Ingredients: ['Espresso', 'Steamed Milk', 'Milk Foam'] -- Price: 4.75 -- rating: 4.8\",\n",
       " \"Chocolate Chip Biscotti : Crunchy and delightful, this chocolate chip biscotti is perfect for dipping in your coffee or enjoying on its own. Each bite offers a satisfying crunch and a burst of rich chocolate, making it a favorite for any biscotti lover. -- Ingredients: ['Flour', 'Sugar', 'Chocolate Chips', 'Eggs', 'Almonds', 'Baking Powder'] -- Price: 2.5 -- rating: 4.6\",\n",
       " \"Espresso shot : A bold shot of rich espresso, our espresso is crafted from the finest beans to deliver a robust flavor in every sip. Perfect for a quick pick-me-up, it can also serve as a base for your favorite coffee drinks. -- Ingredients: ['Espresso'] -- Price: 2.0 -- rating: 4.9\",\n",
       " \"Hazelnut Biscotti : These delicious hazelnut biscotti are perfect for a crunchy treat alongside your coffee. Infused with roasted hazelnuts, they provide a delightful nutty flavor that enhances your coffee experience. -- Ingredients: ['Flour', 'Sugar', 'Hazelnuts', 'Eggs', 'Baking Powder'] -- Price: 2.75 -- rating: 4.4\",\n",
       " \"Chocolate Croissant : Flaky and buttery, our chocolate croissant is filled with rich chocolate, making it a delightful pastry for any time. Perfect for breakfast or an afternoon snack, it's a sweet indulgence that never disappoints. -- Ingredients: ['Flour', 'Butter', 'Chocolate', 'Yeast', 'Sugar', 'Salt'] -- Price: 3.75 -- rating: 4.8\",\n",
       " \"Dark chocolate : Rich and indulgent, our dark chocolate drinking chocolate is made with premium cocoa. This luxurious beverage is perfect for a cozy treat on a chilly day, bringing warmth and comfort with every sip. -- Ingredients: ['Cocoa Powder', 'Sugar', 'Milk'] -- Price: 5.0 -- rating: 4.7\",\n",
       " \"Cranberry Scone : This delightful cranberry scone combines sweet and tart flavors, making it perfect for a breakfast treat or afternoon snack. Soft and crumbly, it pairs wonderfully with tea or coffee for a comforting experience. -- Ingredients: ['Flour', 'Butter', 'Cranberries', 'Sugar', 'Baking Powder', 'Eggs'] -- Price: 3.5 -- rating: 4.5\",\n",
       " \"Croissant : Our classic croissant is flaky and buttery, offering a delightful crunch with each bite. Whether enjoyed alone or filled with your favorite spread, it's a timeless pastry that elevates any meal. -- Ingredients: ['Flour', 'Butter', 'Yeast', 'Sugar', 'Salt'] -- Price: 3.25 -- rating: 4.7\",\n",
       " \"Almond Croissant : A delightful twist on the classic croissant, filled with almond cream and topped with slivered almonds for added crunch. This indulgent treat is perfect for those who love a sweet and nutty flavor combination. -- Ingredients: ['Flour', 'Butter', 'Almond Cream', 'Sugar', 'Almonds', 'Yeast'] -- Price: 4.0 -- rating: 4.8\",\n",
       " \"Ginger Biscotti : These spicy ginger biscotti are perfect for dipping and provide a delightful crunch with every bite. The warm flavor of ginger adds a unique twist that pairs beautifully with your favorite hot beverage. -- Ingredients: ['Flour', 'Sugar', 'Ginger', 'Eggs', 'Baking Powder'] -- Price: 2.5 -- rating: 4.7\",\n",
       " \"Oatmeal Scone : Nutty and wholesome, our oatmeal scone is a perfect snack for any time. Made with rolled oats and a hint of sweetness, it's a satisfying option for those who enjoy hearty baked goods. -- Ingredients: ['Flour', 'Oats', 'Butter', 'Sugar', 'Baking Powder', 'Eggs'] -- Price: 3.25 -- rating: 4.3\",\n",
       " \"Ginger Scone : Soft and fragrant, our ginger scone is perfect for a morning treat, infused with the warm spice of ginger. It's an inviting option that pairs beautifully with a cup of tea or coffee. -- Ingredients: ['Flour', 'Butter', 'Ginger', 'Sugar', 'Baking Powder', 'Eggs'] -- Price: 3.5 -- rating: 4.5\",\n",
       " \"Chocolate syrup : Our rich chocolate syrup is perfect for drizzling over desserts or adding to your favorite beverages. Its velvety texture and intense chocolate flavor make it an essential topping for any sweet creation. -- Ingredients: ['Sugar', 'Cocoa Powder', 'Water', 'Vanilla Extract'] -- Price: 1.5 -- rating: 4.8\",\n",
       " \"Hazelnut syrup : Add a nutty flavor to your drinks with our hazelnut syrup, perfect for lattes and desserts. Its smooth sweetness enhances a variety of beverages, making it a must-have for coffee lovers. -- Ingredients: ['Sugar', 'Water', 'Hazelnut Extract', 'Vanilla Extract'] -- Price: 1.5 -- rating: 4.7\",\n",
       " \"Carmel syrup : Sweet and creamy, our caramel syrup is ideal for topping your drinks and desserts with a rich caramel flavor. This versatile syrup elevates everything from coffee to ice cream, providing a luscious touch. -- Ingredients: ['Sugar', 'Water', 'Cream', 'Butter', 'Vanilla Extract'] -- Price: 1.5 -- rating: 4.9\",\n",
       " \"Sugar Free Vanilla syrup : Enjoy the sweet flavor of vanilla without the sugar, making it perfect for your coffee or dessert. This syrup offers a guilt-free way to enhance your beverages, ensuring you never miss out on flavor. -- Ingredients: ['Water', 'Natural Flavors', 'Sucralose'] -- Price: 1.5 -- rating: 4.4\",\n",
       " \"Coffee shop Merry's Way about section: Welcome to Merry's Way Coffee, your neighborhood coffee shop located in the heart of Greenwich Village, New York City. At Merry's Way, we believe that coffee is more than just a drink—it’s an experience, a moment of joy, and a way to connect with others.\\n\\nOur Story\\nFounded in 2015, Merry’s Way started as a small family-owned café with one mission: to share the love of quality, ethically-sourced coffee with our community.\\n\\nMerry's passion for travel and coffee led her on a journey across South America, where she handpicked partnerships with small farms and cooperatives. We ensure that every cup we brew tells a story of dedication and care, from farm to table. Our beans are roasted in-house to bring out unique flavors that reflect the regions where they were grown.\\n\\nDelivery & Locations Served\\nIn addition to offering a cozy place to enjoy coffee in our café, we proudly deliver to Greenwich Village, SoHo, West Village, and Lower Manhattan. Whether you’re at home, in the office, or enjoying a day at Washington Square Park, we bring your favorite coffee right to your door. Just a click away, our delivery service ensures that you never miss your daily cup, no matter where you are.\\n\\nOur Menu\\nOur menu offers something for everyone, from our signature espresso blends to refreshing cold brews, artisanal teas, and fresh-baked goods sourced from local bakeries. We also cater to a variety of dietary needs with a range of plant-based milk options and gluten-free snacks.\\n\\nCommunity & Sustainability\\nAt Merry's Way, we are more than just coffee. We are part of the community, and we care deeply about sustainability. We use eco-friendly packaging, work with local farmers, and strive to minimize our carbon footprint. Our café regularly hosts events, such as live music nights, art showcases, and community fundraisers, making it a hub for creativity and connection.\\n\\nWorking Hours\\nWe're open every day to make sure you can get your coffee whenever you need it:\\n\\nMonday to Friday: 7 AM – 8 PM\\nSaturday: 8 AM – 8 PM\\nSunday: 8 AM – 6 PM\\nWhether you’re grabbing a coffee on the go or staying to enjoy the warm, inviting atmosphere of our café, Merry’s Way is your destination for coffee done right.\\n\\nStop by today or order online—we can’t wait to serve you!\",\n",
       " 'Menu Items: Menu Items\\n\\nCappuccino - $4.50\\nJumbo Savory Scone - $3.25\\nLatte - $4.75\\nChocolate Chip Biscotti - $2.50\\nEspresso shot - $2.00\\nHazelnut Biscotti - $2.75\\nChocolate Croissant - $3.75\\nDark chocolate (Drinking Chocolate) - $5.00\\nCranberry Scone - $3.50\\nCroissant - $3.25\\nAlmond Croissant - $4.00\\nGinger Biscotti - $2.50\\nOatmeal Scone - $3.25\\nGinger Scone - $3.50\\nChocolate syrup - $1.50\\nHazelnut syrup - $1.50\\nCarmel syrup - $1.50\\nSugar Free Vanilla syrup - $1.50\\nDark chocolate (Packaged Chocolate) - $3.00']"
      ]
     },
     "execution_count": 20,
     "metadata": {},
     "output_type": "execute_result"
    }
   ],
   "source": [
    "# add menu list to the texts like the above\n",
    "\n",
    "with open('products/menu_items_text.txt') as f:\n",
    "    menu_items_text = f.read()\n",
    "    \n",
    "menu_items_text = \"Menu Items: \" + menu_items_text\n",
    "texts.append(menu_items_text)\n",
    "texts"
   ]
  },
  {
   "cell_type": "markdown",
   "metadata": {},
   "source": [
    "#### Generate Embeddings for the updated texts"
   ]
  },
  {
   "cell_type": "code",
   "execution_count": 21,
   "metadata": {},
   "outputs": [],
   "source": [
    "output = client.embeddings.create(input = texts,model=model_name)\n",
    "embeddings = output.data"
   ]
  },
  {
   "cell_type": "markdown",
   "metadata": {},
   "source": [
    "### Push data to Pinecone Database"
   ]
  },
  {
   "cell_type": "code",
   "execution_count": 24,
   "metadata": {},
   "outputs": [],
   "source": [
    "pc.create_index(\n",
    "    name=index_name,\n",
    "    dimension=384, \n",
    "    metric=\"cosine\", \n",
    "    spec=ServerlessSpec(\n",
    "        cloud=\"aws\",\n",
    "        region=\"us-east-1\"\n",
    "    ) \n",
    ")"
   ]
  },
  {
   "cell_type": "markdown",
   "metadata": {},
   "source": [
    "* Refesh the Pineconde database to see created index"
   ]
  },
  {
   "cell_type": "code",
   "execution_count": 25,
   "metadata": {},
   "outputs": [
    {
     "data": {
      "text/plain": [
       "{'upserted_count': 20}"
      ]
     },
     "execution_count": 25,
     "metadata": {},
     "output_type": "execute_result"
    }
   ],
   "source": [
    "# Wait for the index to be ready and do this below to insert text data and embeddings to Pinecone\n",
    "\n",
    "while not pc.describe_index(index_name).status['ready']:\n",
    "    time.sleep(1)\n",
    "\n",
    "index = pc.Index(index_name)\n",
    "\n",
    "vectors = []\n",
    "for text, e in zip(texts, embeddings):\n",
    "    entry_id = text.split(\":\")[0].strip()\n",
    "    vectors.append({\n",
    "        \"id\": entry_id,\n",
    "        \"values\": e.embedding,\n",
    "        \"metadata\": {'text': text}\n",
    "    })\n",
    "    \n",
    "index.upsert(\n",
    "    vectors=vectors,\n",
    "    namespace=\"ns1\"\n",
    ")"
   ]
  },
  {
   "cell_type": "markdown",
   "metadata": {},
   "source": [
    "#### Get Closest Documents"
   ]
  },
  {
   "cell_type": "code",
   "execution_count": 26,
   "metadata": {},
   "outputs": [],
   "source": [
    "output = client.embeddings.create(input = [\"Is Cappuccino lactose-free?\"],model=model_name)\n",
    "embeding = output.data[0].embedding"
   ]
  },
  {
   "cell_type": "code",
   "execution_count": 27,
   "metadata": {},
   "outputs": [
    {
     "name": "stdout",
     "output_type": "stream",
     "text": [
      "{'matches': [{'id': 'Cappuccino',\n",
      "              'metadata': {'text': 'Cappuccino : A rich and creamy cappuccino '\n",
      "                                   'made with freshly brewed espresso, steamed '\n",
      "                                   'milk, and a frothy milk cap. This '\n",
      "                                   'delightful drink offers a perfect balance '\n",
      "                                   'of bold coffee flavor and smooth milk, '\n",
      "                                   'making it an ideal companion for relaxing '\n",
      "                                   'mornings or lively conversations. -- '\n",
      "                                   \"Ingredients: ['Espresso', 'Steamed Milk', \"\n",
      "                                   \"'Milk Foam'] -- Price: 4.5 -- rating: 4.7\"},\n",
      "              'score': 0.734774,\n",
      "              'values': []},\n",
      "             {'id': 'Sugar Free Vanilla syrup',\n",
      "              'metadata': {'text': 'Sugar Free Vanilla syrup : Enjoy the sweet '\n",
      "                                   'flavor of vanilla without the sugar, '\n",
      "                                   'making it perfect for your coffee or '\n",
      "                                   'dessert. This syrup offers a guilt-free '\n",
      "                                   'way to enhance your beverages, ensuring '\n",
      "                                   'you never miss out on flavor. -- '\n",
      "                                   \"Ingredients: ['Water', 'Natural Flavors', \"\n",
      "                                   \"'Sucralose'] -- Price: 1.5 -- rating: 4.4\"},\n",
      "              'score': 0.625456691,\n",
      "              'values': []},\n",
      "             {'id': 'Menu Items',\n",
      "              'metadata': {'text': 'Menu Items: Menu Items\\n'\n",
      "                                   '\\n'\n",
      "                                   'Cappuccino - $4.50\\n'\n",
      "                                   'Jumbo Savory Scone - $3.25\\n'\n",
      "                                   'Latte - $4.75\\n'\n",
      "                                   'Chocolate Chip Biscotti - $2.50\\n'\n",
      "                                   'Espresso shot - $2.00\\n'\n",
      "                                   'Hazelnut Biscotti - $2.75\\n'\n",
      "                                   'Chocolate Croissant - $3.75\\n'\n",
      "                                   'Dark chocolate (Drinking Chocolate) - '\n",
      "                                   '$5.00\\n'\n",
      "                                   'Cranberry Scone - $3.50\\n'\n",
      "                                   'Croissant - $3.25\\n'\n",
      "                                   'Almond Croissant - $4.00\\n'\n",
      "                                   'Ginger Biscotti - $2.50\\n'\n",
      "                                   'Oatmeal Scone - $3.25\\n'\n",
      "                                   'Ginger Scone - $3.50\\n'\n",
      "                                   'Chocolate syrup - $1.50\\n'\n",
      "                                   'Hazelnut syrup - $1.50\\n'\n",
      "                                   'Carmel syrup - $1.50\\n'\n",
      "                                   'Sugar Free Vanilla syrup - $1.50\\n'\n",
      "                                   'Dark chocolate (Packaged Chocolate) - '\n",
      "                                   '$3.00'},\n",
      "              'score': 0.611528158,\n",
      "              'values': []}],\n",
      " 'namespace': 'ns1',\n",
      " 'usage': {'read_units': 6}}\n"
     ]
    }
   ],
   "source": [
    "results = index.query(\n",
    "    namespace=\"ns1\",\n",
    "    vector=embeding,\n",
    "    top_k=3,\n",
    "    include_values=False,\n",
    "    include_metadata=True\n",
    ")\n",
    "\n",
    "print(results)"
   ]
  }
 ],
 "metadata": {
  "kernelspec": {
   "display_name": "coffeeshop_env",
   "language": "python",
   "name": "python3"
  },
  "language_info": {
   "codemirror_mode": {
    "name": "ipython",
    "version": 3
   },
   "file_extension": ".py",
   "mimetype": "text/x-python",
   "name": "python",
   "nbconvert_exporter": "python",
   "pygments_lexer": "ipython3",
   "version": "3.11.10"
  }
 },
 "nbformat": 4,
 "nbformat_minor": 2
}
