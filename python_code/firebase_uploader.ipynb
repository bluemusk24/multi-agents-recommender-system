{
 "cells": [
  {
   "cell_type": "code",
   "execution_count": 1,
   "metadata": {},
   "outputs": [],
   "source": [
    "# import needed libraries\n",
    "\n",
    "from firebase_admin import db, credentials, storage\n",
    "from dotenv import load_dotenv, find_dotenv\n",
    "import firebase_admin\n",
    "import pandas as pd\n",
    "import os\n",
    "\n",
    "# load the .env file\n",
    "_ = load_dotenv(find_dotenv())"
   ]
  },
  {
   "cell_type": "markdown",
   "metadata": {},
   "source": [
    "### Initialize Firebase"
   ]
  },
  {
   "cell_type": "code",
   "execution_count": 2,
   "metadata": {},
   "outputs": [],
   "source": [
    "service_account_info ={\n",
    "    \"type\": os.getenv('FIREBASE_TYPE'),\n",
    "    \"project_id\": os.getenv('FIREBASE_PROJECT_ID'),\n",
    "    \"private_key_id\": os.getenv('FIREBASE_PRIVATE_KEY_ID'),\n",
    "    \"private_key\": os.getenv('FIREBASE_PRIVATE_KEY'),\n",
    "    \"client_email\": os.getenv('FIREBASE_CLIENT_EMAIL'),\n",
    "    \"client_id\": os.getenv('FIREBASE_CLIENT_ID'),\n",
    "    \"auth_uri\": os.getenv('FIREBASE_AUTH_URI'),\n",
    "    \"token_uri\": os.getenv('FIREBASE_TOKEN_URI'),\n",
    "    \"auth_provider_x509_cert_url\": os.getenv('FIREBASE_AUTH_PROVIDER_X509_CERT_URL'),\n",
    "    \"client_x509_cert_url\": os.getenv('FIREBASE_CLIENT_X509_CERT_URL'),\n",
    "    \"universe_domain\": os.getenv('FIREBASE_UNIVERSE_DOMAIN')\n",
    "  }\n",
    "  "
   ]
  },
  {
   "cell_type": "markdown",
   "metadata": {},
   "source": [
    "* Ensure to create a Realtime database (to get URL) and storage Bucket--link to Google Billing account for access--before embarking on the code below."
   ]
  },
  {
   "cell_type": "code",
   "execution_count": null,
   "metadata": {},
   "outputs": [
    {
     "data": {
      "text/plain": [
       "<firebase_admin.App at 0x7f8d5ee5cd50>"
      ]
     },
     "execution_count": 3,
     "metadata": {},
     "output_type": "execute_result"
    }
   ],
   "source": [
    "# connect to the firebase database and storage with my credentials\n",
    "\n",
    "cred = credentials.Certificate(service_account_info)\n",
    "firebase_admin.initialize_app(cred,{\n",
    "    'storageBucket': 'coffeeshop-app-3c5cc.firebasestorage.app',\n",
    "     'databaseURL': 'https://coffeeshop-app-3c5cc-default-rtdb.firebaseio.com/'\n",
    "})"
   ]
  },
  {
   "cell_type": "code",
   "execution_count": null,
   "metadata": {},
   "outputs": [],
   "source": [
    "# initialize Firebase storage BUcket\n",
    "\n",
    "bucket = storage.bucket()"
   ]
  },
  {
   "cell_type": "markdown",
   "metadata": {},
   "source": [
    "#### Upload data Processes"
   ]
  },
  {
   "cell_type": "code",
   "execution_count": 5,
   "metadata": {},
   "outputs": [],
   "source": [
    "# get image path\n",
    "\n",
    "image_folder_path = './products/images/'"
   ]
  },
  {
   "cell_type": "code",
   "execution_count": 7,
   "metadata": {},
   "outputs": [],
   "source": [
    "# Get all products collection to realtime database\n",
    "\n",
    "products_collection = db.reference('products')"
   ]
  },
  {
   "cell_type": "code",
   "execution_count": 8,
   "metadata": {},
   "outputs": [
    {
     "data": {
      "text/html": [
       "<div>\n",
       "<style scoped>\n",
       "    .dataframe tbody tr th:only-of-type {\n",
       "        vertical-align: middle;\n",
       "    }\n",
       "\n",
       "    .dataframe tbody tr th {\n",
       "        vertical-align: top;\n",
       "    }\n",
       "\n",
       "    .dataframe thead th {\n",
       "        text-align: right;\n",
       "    }\n",
       "</style>\n",
       "<table border=\"1\" class=\"dataframe\">\n",
       "  <thead>\n",
       "    <tr style=\"text-align: right;\">\n",
       "      <th></th>\n",
       "      <th>name</th>\n",
       "      <th>category</th>\n",
       "      <th>description</th>\n",
       "      <th>ingredients</th>\n",
       "      <th>price</th>\n",
       "      <th>rating</th>\n",
       "      <th>image_path</th>\n",
       "    </tr>\n",
       "  </thead>\n",
       "  <tbody>\n",
       "    <tr>\n",
       "      <th>0</th>\n",
       "      <td>Cappuccino</td>\n",
       "      <td>Coffee</td>\n",
       "      <td>A rich and creamy cappuccino made with freshly...</td>\n",
       "      <td>[Espresso, Steamed Milk, Milk Foam]</td>\n",
       "      <td>4.50</td>\n",
       "      <td>4.7</td>\n",
       "      <td>cappuccino.jpg</td>\n",
       "    </tr>\n",
       "    <tr>\n",
       "      <th>1</th>\n",
       "      <td>Jumbo Savory Scone</td>\n",
       "      <td>Bakery</td>\n",
       "      <td>Deliciously flaky and buttery, this jumbo savo...</td>\n",
       "      <td>[Flour, Butter, Cheese, Herbs, Baking Powder, ...</td>\n",
       "      <td>3.25</td>\n",
       "      <td>4.3</td>\n",
       "      <td>SavoryScone.webp</td>\n",
       "    </tr>\n",
       "  </tbody>\n",
       "</table>\n",
       "</div>"
      ],
      "text/plain": [
       "                 name category  \\\n",
       "0          Cappuccino   Coffee   \n",
       "1  Jumbo Savory Scone   Bakery   \n",
       "\n",
       "                                         description  \\\n",
       "0  A rich and creamy cappuccino made with freshly...   \n",
       "1  Deliciously flaky and buttery, this jumbo savo...   \n",
       "\n",
       "                                         ingredients  price  rating  \\\n",
       "0                [Espresso, Steamed Milk, Milk Foam]   4.50     4.7   \n",
       "1  [Flour, Butter, Cheese, Herbs, Baking Powder, ...   3.25     4.3   \n",
       "\n",
       "         image_path  \n",
       "0    cappuccino.jpg  \n",
       "1  SavoryScone.webp  "
      ]
     },
     "execution_count": 8,
     "metadata": {},
     "output_type": "execute_result"
    }
   ],
   "source": [
    "# read the products json l-file and specify lines=True\n",
    "\n",
    "df = pd.read_json('products/products.jsonl',lines=True)\n",
    "df.head(2)"
   ]
  },
  {
   "cell_type": "markdown",
   "metadata": {},
   "source": [
    "#### Function to upload images to Storage"
   ]
  },
  {
   "cell_type": "code",
   "execution_count": 9,
   "metadata": {},
   "outputs": [
    {
     "name": "stdout",
     "output_type": "stream",
     "text": [
      "['products', 'images', 'Latte.jpg'] Latte.jpg\n"
     ]
    }
   ],
   "source": [
    "# test for the image_path parameter in the function below\n",
    "\n",
    "image_path = 'products/images/Latte.jpg'\n",
    "image = image_path.split('/')\n",
    "image1 = image[-1]\n",
    "\n",
    "print(image, image1)"
   ]
  },
  {
   "cell_type": "code",
   "execution_count": 10,
   "metadata": {},
   "outputs": [],
   "source": [
    "def upload_image(bucket, image_path):\n",
    "    image_name = image_path.split('/')[-1]\n",
    "    blob = bucket.blob(f'product_images/{image_name}')\n",
    "    # Upload image\n",
    "    blob.upload_from_filename(image_path)\n",
    "    # Make the image publicly accessible and get its URL\n",
    "    blob.make_public()\n",
    "    return blob.public_url"
   ]
  },
  {
   "cell_type": "code",
   "execution_count": 11,
   "metadata": {},
   "outputs": [
    {
     "name": "stdout",
     "output_type": "stream",
     "text": [
      "0 name                                                  Cappuccino\n",
      "category                                                  Coffee\n",
      "description    A rich and creamy cappuccino made with freshly...\n",
      "ingredients                  [Espresso, Steamed Milk, Milk Foam]\n",
      "price                                                        4.5\n",
      "rating                                                       4.7\n",
      "image_path                                        cappuccino.jpg\n",
      "Name: 0, dtype: object\n",
      "1 name                                          Jumbo Savory Scone\n",
      "category                                                  Bakery\n",
      "description    Deliciously flaky and buttery, this jumbo savo...\n",
      "ingredients    [Flour, Butter, Cheese, Herbs, Baking Powder, ...\n",
      "price                                                       3.25\n",
      "rating                                                       4.3\n",
      "image_path                                      SavoryScone.webp\n",
      "Name: 1, dtype: object\n",
      "2 name                                                       Latte\n",
      "category                                                  Coffee\n",
      "description    Smooth and creamy, our latte combines rich esp...\n",
      "ingredients                  [Espresso, Steamed Milk, Milk Foam]\n",
      "price                                                       4.75\n",
      "rating                                                       4.8\n",
      "image_path                                             Latte.jpg\n",
      "Name: 2, dtype: object\n",
      "3 name                                     Chocolate Chip Biscotti\n",
      "category                                                  Bakery\n",
      "description    Crunchy and delightful, this chocolate chip bi...\n",
      "ingredients    [Flour, Sugar, Chocolate Chips, Eggs, Almonds,...\n",
      "price                                                        2.5\n",
      "rating                                                       4.6\n",
      "image_path                                 chocolat_biscotti.jpg\n",
      "Name: 3, dtype: object\n",
      "4 name                                               Espresso shot\n",
      "category                                                  Coffee\n",
      "description    A bold shot of rich espresso, our espresso is ...\n",
      "ingredients                                           [Espresso]\n",
      "price                                                        2.0\n",
      "rating                                                       4.9\n",
      "image_path                                    Espresso_shot.webp\n",
      "Name: 4, dtype: object\n",
      "5 name                                           Hazelnut Biscotti\n",
      "category                                                  Bakery\n",
      "description    These delicious hazelnut biscotti are perfect ...\n",
      "ingredients       [Flour, Sugar, Hazelnuts, Eggs, Baking Powder]\n",
      "price                                                       2.75\n",
      "rating                                                       4.4\n",
      "image_path                                 Hazelnut_Biscotti.jpg\n",
      "Name: 5, dtype: object\n",
      "6 name                                         Chocolate Croissant\n",
      "category                                                  Bakery\n",
      "description    Flaky and buttery, our chocolate croissant is ...\n",
      "ingredients       [Flour, Butter, Chocolate, Yeast, Sugar, Salt]\n",
      "price                                                       3.75\n",
      "rating                                                       4.8\n",
      "image_path                               Chocolate_Croissant.jpg\n",
      "Name: 6, dtype: object\n",
      "7 name                                              Dark chocolate\n",
      "category                                      Drinking Chocolate\n",
      "description    Rich and indulgent, our dark chocolate drinkin...\n",
      "ingredients                          [Cocoa Powder, Sugar, Milk]\n",
      "price                                                        5.0\n",
      "rating                                                       4.7\n",
      "image_path                                    Dark_chocolate.jpg\n",
      "Name: 7, dtype: object\n",
      "8 name                                             Cranberry Scone\n",
      "category                                                  Bakery\n",
      "description    This delightful cranberry scone combines sweet...\n",
      "ingredients    [Flour, Butter, Cranberries, Sugar, Baking Pow...\n",
      "price                                                        3.5\n",
      "rating                                                       4.5\n",
      "image_path                                   Cranberry_Scone.jpg\n",
      "Name: 8, dtype: object\n",
      "9 name                                                   Croissant\n",
      "category                                                  Bakery\n",
      "description    Our classic croissant is flaky and buttery, of...\n",
      "ingredients                  [Flour, Butter, Yeast, Sugar, Salt]\n",
      "price                                                       3.25\n",
      "rating                                                       4.7\n",
      "image_path                                         Croissant.jpg\n",
      "Name: 9, dtype: object\n",
      "10 name                                            Almond Croissant\n",
      "category                                                  Bakery\n",
      "description    A delightful twist on the classic croissant, f...\n",
      "ingredients    [Flour, Butter, Almond Cream, Sugar, Almonds, ...\n",
      "price                                                        4.0\n",
      "rating                                                       4.8\n",
      "image_path                                  almond_croissant.jpg\n",
      "Name: 10, dtype: object\n",
      "11 name                                             Ginger Biscotti\n",
      "category                                                  Bakery\n",
      "description    These spicy ginger biscotti are perfect for di...\n",
      "ingredients          [Flour, Sugar, Ginger, Eggs, Baking Powder]\n",
      "price                                                        2.5\n",
      "rating                                                       4.7\n",
      "image_path                                  Ginger_Biscotti.webp\n",
      "Name: 11, dtype: object\n",
      "12 name                                               Oatmeal Scone\n",
      "category                                                  Bakery\n",
      "description    Nutty and wholesome, our oatmeal scone is a pe...\n",
      "ingredients    [Flour, Oats, Butter, Sugar, Baking Powder, Eggs]\n",
      "price                                                       3.25\n",
      "rating                                                       4.3\n",
      "image_path                                    oatmeal_scones.jpg\n",
      "Name: 12, dtype: object\n",
      "13 name                                                Ginger Scone\n",
      "category                                                  Bakery\n",
      "description    Soft and fragrant, our ginger scone is perfect...\n",
      "ingredients    [Flour, Butter, Ginger, Sugar, Baking Powder, ...\n",
      "price                                                        3.5\n",
      "rating                                                       4.5\n",
      "image_path                                     Ginger_Scone.webp\n",
      "Name: 13, dtype: object\n",
      "14 name                                             Chocolate syrup\n",
      "category                                                Flavours\n",
      "description    Our rich chocolate syrup is perfect for drizzl...\n",
      "ingredients        [Sugar, Cocoa Powder, Water, Vanilla Extract]\n",
      "price                                                        1.5\n",
      "rating                                                       4.8\n",
      "image_path                                   Chocolate_syrup.jpg\n",
      "Name: 14, dtype: object\n",
      "15 name                                              Hazelnut syrup\n",
      "category                                                Flavours\n",
      "description    Add a nutty flavor to your drinks with our haz...\n",
      "ingredients    [Sugar, Water, Hazelnut Extract, Vanilla Extract]\n",
      "price                                                        1.5\n",
      "rating                                                       4.7\n",
      "image_path                                   Hazelnut_syrup.webp\n",
      "Name: 15, dtype: object\n",
      "16 name                                                Carmel syrup\n",
      "category                                                Flavours\n",
      "description    Sweet and creamy, our caramel syrup is ideal f...\n",
      "ingredients       [Sugar, Water, Cream, Butter, Vanilla Extract]\n",
      "price                                                        1.5\n",
      "rating                                                       4.9\n",
      "image_path                                     caramel_syrup.jpg\n",
      "Name: 16, dtype: object\n",
      "17 name                                    Sugar Free Vanilla syrup\n",
      "category                                                Flavours\n",
      "description    Enjoy the sweet flavor of vanilla without the ...\n",
      "ingredients                  [Water, Natural Flavors, Sucralose]\n",
      "price                                                        1.5\n",
      "rating                                                       4.4\n",
      "image_path                                     Vanilla_syrup.jpg\n",
      "Name: 17, dtype: object\n"
     ]
    }
   ],
   "source": [
    "# just for test to understand the codes after this one\n",
    "\n",
    "for index, row in df.iterrows():\n",
    "    print (index, row)\n",
    "    #print(index, row['name'])"
   ]
  },
  {
   "cell_type": "code",
   "execution_count": 12,
   "metadata": {},
   "outputs": [
    {
     "name": "stdout",
     "output_type": "stream",
     "text": [
      "0 Cappuccino\n",
      "1 Jumbo Savory Scone\n",
      "2 Latte\n",
      "3 Chocolate Chip Biscotti\n",
      "4 Espresso shot\n",
      "5 Hazelnut Biscotti\n",
      "6 Chocolate Croissant\n",
      "7 Dark chocolate\n",
      "8 Cranberry Scone\n",
      "9 Croissant\n",
      "10 Almond Croissant\n",
      "11 Ginger Biscotti\n",
      "12 Oatmeal Scone\n",
      "13 Ginger Scone\n",
      "14 Chocolate syrup\n",
      "15 Hazelnut syrup\n",
      "16 Carmel syrup\n",
      "17 Sugar Free Vanilla syrup\n"
     ]
    }
   ],
   "source": [
    "# loop over the dataframe products.jsonl\n",
    "\n",
    "for index, row in df.iterrows():\n",
    "    print(index, row['name'])\n",
    "    \n",
    "    image_path = os.path.join(image_folder_path,row['image_path'])\n",
    "    \n",
    "    image_url = upload_image(bucket,image_path)\n",
    "    product_data = row.to_dict()\n",
    "    product_data.pop('image_path')\n",
    "    product_data['image_url'] = image_url\n",
    "    \n",
    "    # Add to Firestore\n",
    "    products_collection.push().set(product_data)"
   ]
  },
  {
   "cell_type": "markdown",
   "metadata": {},
   "source": [
    "* Note: after running the above, go to Firebase Storage and Realtime database to view the uploaded data. You can also get the link URL"
   ]
  },
  {
   "cell_type": "markdown",
   "metadata": {},
   "source": []
  }
 ],
 "metadata": {
  "kernelspec": {
   "display_name": "coffeeshop_env",
   "language": "python",
   "name": "python3"
  },
  "language_info": {
   "codemirror_mode": {
    "name": "ipython",
    "version": 3
   },
   "file_extension": ".py",
   "mimetype": "text/x-python",
   "name": "python",
   "nbconvert_exporter": "python",
   "pygments_lexer": "ipython3",
   "version": "3.11.10"
  }
 },
 "nbformat": 4,
 "nbformat_minor": 2
}
